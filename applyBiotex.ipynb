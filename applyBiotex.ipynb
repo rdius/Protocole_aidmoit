{
 "cells": [
  {
   "cell_type": "code",
   "execution_count": 1,
   "metadata": {},
   "outputs": [],
   "source": [
    "from biotex import BiotexWrapper\n",
    "import os"
   ]
  },
  {
   "cell_type": "code",
   "execution_count": 3,
   "metadata": {},
   "outputs": [],
   "source": [
    "def biotex_terms_extractor(corpus, language):\n",
    "    params = ['C_value','F-TFIDF-C_M']\n",
    "    for p in params:\n",
    "        wrapper_p = BiotexWrapper(language=language, score=p)\n",
    "        root, filename = os.path.split(corpus)\n",
    "        filename = filename.split('.txt')[0]\n",
    "        filc = open(corpus, 'r')\n",
    "        content = filc.read()\n",
    "        contentdata = [content]\n",
    "        data = wrapper_p.terminology(contentdata)\n",
    "        data.to_csv(root + '/' + p + '_' + filename + \".csv\", sep='\\t')"
   ]
  },
  {
   "cell_type": "code",
   "execution_count": null,
   "metadata": {},
   "outputs": [],
   "source": [
    "def BiotexExtraction(corpus):\n",
    "    contentl=[]\n",
    "    root, filenam = os.path.split(corpus)\t\n",
    "    # recuperation du nom du fichier sans extension\n",
    "    filenam = filenam.split('.txt')[0]\t\n",
    "    #contentl.append(content)\n",
    "    filedata=open(corpus, 'r')\n",
    "    filedata=filedata.read()\n",
    "    contentl.append(filedata)\n",
    "    data= wrapper.terminology(contentl)\n",
    "    data.to_csv(root+'/'+ filenam+\".csv\", sep='\\t')"
   ]
  }
 ],
 "metadata": {
  "kernelspec": {
   "display_name": "Python 3",
   "language": "python",
   "name": "python3"
  },
  "language_info": {
   "codemirror_mode": {
    "name": "ipython",
    "version": 3
   },
   "file_extension": ".py",
   "mimetype": "text/x-python",
   "name": "python",
   "nbconvert_exporter": "python",
   "pygments_lexer": "ipython3",
   "version": "3.7.7"
  }
 },
 "nbformat": 4,
 "nbformat_minor": 4
}
