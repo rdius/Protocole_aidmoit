{
 "cells": [
  {
   "cell_type": "code",
   "execution_count": 1,
   "metadata": {},
   "outputs": [],
   "source": [
    "#  Copyright (c) 2020. MOOD project\n",
    "from cleantext import clean\n",
    "import string\n",
    "import re\n",
    "import wikipedia\n",
    "import time\n",
    "import os\n",
    "import random"
   ]
  },
  {
   "cell_type": "code",
   "execution_count": 2,
   "metadata": {},
   "outputs": [],
   "source": [
    "def remov_pattern():\n",
    "    remove = string.punctuation\n",
    "    remove = remove.replace(\"'\", \"\")  # don't remove hyphens\n",
    "    pattern = r\"[{}]\".format(remove)  # create the pattern\n",
    "    return pattern\n"
   ]
  },
  {
   "cell_type": "code",
   "execution_count": 3,
   "metadata": {},
   "outputs": [],
   "source": [
    "def text_clearner(raw_text):\n",
    "    cleaned = clean(raw_text,lang=\"fr\")\n",
    "    pattern = remov_pattern()\n",
    "    cleaned_text = re.sub(pattern, \"\", cleaned)\n",
    "    return cleaned_text\n"
   ]
  },
  {
   "cell_type": "code",
   "execution_count": 17,
   "metadata": {},
   "outputs": [],
   "source": [
    "# def search_wiki(keywords, number_of_search,nb_page, wiki_pages):\n",
    "def search_wiki_(keywords, number_of_search,wiki_pages):\n",
    "    #print('xxxx')\n",
    "    suggestion = False\n",
    "    wikipedia.set_lang(\"fr\")\n",
    "    result_set = wikipedia.search(keywords, number_of_search, suggestion)\n",
    "    for term in result_set[10:]: # go with 10 first pages\n",
    "        #print(term)\n",
    "        try:\n",
    "            page = wikipedia.page(term, preload=False)\n",
    "        except wikipedia.DisambiguationError as e:\n",
    "            # s = wikipedia.random.choice(e.options)\n",
    "            s = random.choice(e.options)\n",
    "            page = wikipedia.page(s)\n",
    "        '''page = wikipedia.page(term, preload=False)'''\n",
    "        page_title = page.title\n",
    "        #print(page_title)\n",
    "        page_content = page.content\n",
    "        #time.sleep(2)\n",
    "        wiki_pages[page_title] = page_content\n",
    "        if not os.path.exists(os.getcwd()+'/'+str(keywords)):\n",
    "            os.makedirs(os.getcwd()+'/'+str(keywords))\n",
    "        root = os.getcwd() + '/' + str(keywords)\n",
    "        fw = open(root + '/' + str(keywords) + '_wiki_corpus.txt', 'a+')\n",
    "        fw.write(\"%s\\n\" % text_clearner(page_content))\n",
    "        fw.write(\"\\n##########END##########\\n\")\n",
    "        fw.close()\n",
    "        time.sleep(60)\n",
    "        #print(wiki_pages)\n",
    "    return wiki_pages\n",
    "#'/home/rodrique/Bureau/Protocole/corpus_20/'"
   ]
  },
  {
   "cell_type": "code",
   "execution_count": 18,
   "metadata": {},
   "outputs": [
    {
     "name": "stdout",
     "output_type": "stream",
     "text": [
      "xxxx\n"
     ]
    },
    {
     "data": {
      "text/plain": [
       "{'Herse (agriculture)': \"Une herse est un instrument agricole constitué d'un châssis en forme de grille, formée par deux séries de barres, les unes verticales, les autres horizontales, parallèles entre elles et fixées aux points de croisement.\\nCet outil est muni de dents courtes et proches les unes des autres qui permettent de travailler la terre en surface pour préparer un lit de semence ou pour le recouvrir. Son passage aplanit le sol, en pulvérisant les mottes, et en enlevant tout ce qui pourrait gêner la germination de la semence.\\nPline et d'autres historiens agronomes de la même époque (Caton, Varron, Columelle, Palladius) mentionnent déjà la herse.\\n\\n\\n== Herse étrille ==\\nUne herse étrille, est une variante de la herse qui dispose d'un grand nombre de dents tractées (en général par un tracteur). Elle se présente sous la forme d'un châssis sur deux niveaux, les griffes étant souples, elles grattent le sol pour en dégager les plantules.\\n\\n\\n== Calendrier républicain ==\\nDans le calendrier républicain, la Herse était le nom attribué au 20e jour du mois de brumaire.\\n\\n\\n== Références ==\\n\\n\\n== Voir aussi ==\\nHerse rotative\\nDéchaumeuse\\nRouleau agricole\\nCultivateur\\n\\n Portail de l’agriculture et l’agronomie\",\n",
       " \"Organisation des Nations unies pour l'alimentation et l'agriculture\": \"L’Organisation des Nations unies pour l’alimentation et l’agriculture (connue sous les sigles ONUAA ou, plus couramment, FAO soit en anglais Food and Agriculture Organization of the United Nations) est une organisation spécialisée du système des Nations unies, créée en 1945 à Québec. Son siège est à Rome, au Palazzo FAO, depuis 1951. Depuis le 15 juin 2013, la FAO compte 197 membres, soit 194 pays membres, une Organisation membre (l’Union européenne) et deux membres associés (les Îles Féroé et Tokelau).\\nSon objectif suprême affiché est « Aider à construire un monde libéré de la faim », sa devise, inscrite sur son logotype, est « Fiat panis », expression latine – sur le modèle de l'expression biblique Fiat lux – signifiant « qu'il y ait du pain ».\\nPour aider les pays pauvres et riches à mieux maîtriser leurs ressources et à avoir une vision prospective, la FAO offre aux utilisateurs enregistrés, depuis le 1er juillet 2010, gratuitement (l'abonnement était autrefois payant) toutes les statistiques de son service FAOSTAT, la plus vaste base de données mondiale sur l'alimentation, l’agriculture et la faim. Son directeur général actuel est Qu Dongyu. Le président indépendant du Conseil est Khalid Mehboob.\\n\\n\\n== Historique ==\\n\\n\\n=== Prémices d'une organisation internationale de l'alimentation et de l'agriculture ===\\nL’idée d’une organisation internationale pour l’alimentation et l’agriculture est née à la fin du dix-neuvième siècle poussée par David Lubin, commerçant devenu agriculteur et philanthrope américain d'origine polonaise. En Italie, en 1904, le roi Victor-Emmanuel III comprend la nécessité d'une telle institution. L'année précédente, il a en effet participé au septième congrès international de la Commission internationale de l'agriculture, fondée en 1889, pour étudier les causes de la crise agricole et des moyens de la combattre. Il soutient l'initiative de David Lubin. Des réunions sont organisées entre le 29 mai et le 6 juin 1905 à Rome et permettent d'élaborer une convention internationale pour la création de l’Institut international d’agriculture (IIA), signée à Rome le 7 juin 1905.\\n\\n\\n=== Création de la FAO en 1945 ===\\nL’Organisation des Nations unies pour l'alimentation et l'agriculture, premier organisme spécialisé des Nations unies est créée le 16 octobre 1945 à Québec. Elle fait suite à l’engagement pris par 44 chefs de gouvernement lors de la conférence de l’alimentation et de l’agriculture tenue à Hot Springs en 1943 réunie à l'initiative du Président des Etats-Unis, Franklin D. Roosevelt. \\nLa création de l’ONUAA prévoyait l’absorption de l’IAA. La fusion est réalisée dès 1946 et le siège de l’ONUAA transféré de Washington à Rome, ancien siège de l’IIA, en 1951. \\n\\n\\n== Mission et activités ==\\nFournir une assistance technique aux pays en développement.\\nFournir des informations et harmoniser les normes dans les domaines de la nutrition, l’agriculture, les forêts et la pêche, notamment par le biais de ses publications (par exemple : rapports périodiques sur l'agriculture, la pêche et les forêts), et de ses bases de données.\\nConseiller les gouvernements et leur fournir un espace de débat multilatéral.\\nOrganiser des forums neutres entre les États pour débattre des principaux problèmes relatifs à l'agriculture, l’alimentation et la sécurité alimentaire.\\nEn collaboration avec l'OMS, la FAO développe le Codex Alimentarius, système de normalisation internationale en matière alimentaire. Elles administrent  conjointement le Comité mixte FAO-OMS d'experts des additifs alimentaires (JECFA).\\nSecrétariat et maintenance du Système de suivi des ressources halieutiques (FIRMS).\\nSensibiliser les populations aux problèmes de faim chronique dans le monde, par exemple par le biais du projet One Billion HungryLa FAO a été allégée d'une partie de son mandat initial à la suite de la création du PAM, d'une part, et du FIDA, d'autre part, organisations également sises à Rome. Par suite, l'aide alimentaire ne relève plus de ses attributions principales.\\nLa FAO ne fournit pas d’aide alimentaire : cette tâche a été confiée au Programme alimentaire mondial.\\n\\n\\n== Gouvernance et fonctionnement ==\\n\\n\\n=== Gouvernance ===\\n\\n\\n==== Conférence ====\\nLa Conférence arrête la politique générale et approuve le budget de l'organisation. Elle élit le président du Conseil et le directeur général ainsi que les membres du Conseil. Elle se réunit tous les deux ans. \\nLa Conférence élit un Conseil de 49 nations membres qui a le rôle d'organe exécutif dans l'intervalle des réunions de la Conférence. Les membres de ce Conseil sont élus pour une période de trois ans.\\nPour la période 2017/2019, le président indépendant du Conseil de la FAO est Khalid Mehboob, du Pakistan.\\n\\n\\n=== Financement ===\\nLe budget total de l'agence s'élève à 2,2 milliards d'euros en 2018-2019. Il est constitué à 39 % par des cotisations obligatoires des Etats membres et à 61 % par des contributions volontaires des membres et d'autres partenaires.\\n\\n\\n=== Direction générale ===\\nL'élection du directeur général a lieu à l'occasion de la Conférence pour un mandat renouvelable une fois. En 2019, cinq candidats sont en lice pour l'élection : Qu Dongyu (Chine), Catherine Geslain-Lanéelle (France), Davit Kirvalidze (Géorgie), Médi Moungui (Cameroun) et Ramesh Chand (Inde). Le 23 juin 2019, le nouveau directeur général, Qu Dongyu, est nommé pour un mandat de quatre ans à partir du 1er août 2019 jusqu'au 31 juillet 2023.\\n\\n\\n==== Directeur général ====\\n\\n\\n==== Directeurs généraux adjoints ====\\n\\n\\n== Secteurs de travail prioritaires ==\\nPour le biennium 2014-2015, la FAO a défini les priorités  suivantes dans sa lutte contre la faim \\n\\nContribuer à éliminer la faim, l'insécurité alimentaire et la malnutrition – Libérer le monde de la faim en promouvant des politiques et des engagements politiques en faveur de la sécurité alimentaire et en veillant à ce que soient disponibles et accessibles des informations actualisées sur les problèmes relatifs à la faim et à la nutrition, et sur les solutions qui peuvent y être apportées.\\nRendre l'agriculture, la foresterie et la pêche plus productives et plus durables – Promouvoir des politiques et des pratiques scientifiquement éprouvées qui favorisent une productivité élevée des secteurs agricoles (cultures, élevage, foresterie et pêches), tout en épargnant la base de ressources naturelles.\\nRéduire la pauvreté rurale – Aider les ruraux pauvres à accéder aux ressources et aux services dont ils ont besoin – notamment l'emploi rural et les dispositifs de protection sociale – pour éloigner le spectre de la pauvreté.\\nFavoriser la mise en place de systèmes agricoles et alimentaires ouverts et efficaces – Contribuer à mettre en place des systèmes alimentaires sûrs et efficaces qui soutiennent la petite agriculture et font reculer la pauvreté et la faim dans les zones rurales.\\nAméliorer la résilience des moyens d’existence face aux catastrophes – Aider les pays à être mieux préparés en cas de catastrophe naturelle ou anthropique, en atténuant les risques et en améliorant la résilience de leurs systèmes alimentaires et agricoles.\\n\\n\\n== FAO et agriculture biologique ==\\nDans un rapport sur la conférence internationale sur l'agriculture biologique et la sécurité alimentaire qui s'est tenue à Rome en mai 2007, la FAO constate que l'agriculture biologique, étendue à grande échelle, aurait un impact relativement limité sur la disponibilité alimentaire, et les prix n'évolueraient pratiquement pas. Elle souligne sa pertinence face à l'agriculture intensive usant des pesticides, des engrais issus de la pétrochimie, voire des OGM. Cette analyse est faite par rapport aux coûts, aux rendements obtenus à long terme, à une résistance accrue des écosystèmes face aux stress climatiques, à la réduction de l'utilisation des carburants fossiles et à l'indépendance qu'elle procure aux agriculteurs et aux États. Par ailleurs, elle constate que l'agriculture biologique est à même d'empêcher le gonflement des bidonvilles, de maintenir les structures rurales, notamment grâce au fait qu'elle nécessite plus de main-d'œuvre.\\nCe rapport a cependant été l’objet d’une controverse. Il émane d’une conférence accueillie par la FAO, mais certaines de ses conclusions, et notamment celle affirmant que « l’agriculture biologique devrait pouvoir produire suffisamment d’aliments pour nourrir la population mondiale actuelle » ne sont pas reconnues par l’Organisation. Une mise au point fut faite six mois plus tard par son président, Jacques Diouf, dans laquelle il précise notamment que « le potentiel de l’agriculture biologique n’est pas suffisant, loin s’en faut, pour nourrir le monde ».\\nEn octobre 2020, la FAO signe une lettre d'intention avec CropLife International, principale association mondiale d'entreprises fabriquant des pesticides. Cette lettre d'intention suscite des protestations de scientifiques, d'une part, et d'organisations de la société civile, d'autre part.\\n\\n\\n== Programmes ==\\n\\n\\n=== Ambassadeurs de bonne volonté ===\\n\\nLe programme d’ambassadeurs de bonne volonté, créé en 1999, vise à sélectionner des célébrités chargées d’attirer l’attention du grand public sur les problématiques de sécurité alimentaire traitées par la FAO. Sont ou ont été ambassadeurs de bonne volonté de la FAO\\u202f: le prix Nobel de médecine Rita Levi-Montalcini, l'actrice Gong Li, les footballeurs Roberto Baggio et Raúl, la chanteuse malienne Oumou Sangaré, la chanteuse québécoise Céline Dion et la chanteuse sud-africaine Miriam Makeba.\\n\\n\\n== Crise ==\\nLa FAO a commandé en 2005 à un groupe d'experts un audit d'Évaluation Externe Indépendante. Un pré-rapport (fin juillet 2007) estime que la FAO est « au bord du gouffre » ; son personnel étant démotivé par des « systèmes administratifs dépassés et rigides » et une  « bureaucratie tatillonne ». L'influence de la FAO « décline », ses services perdant de leur avantage comparatif, ce qui encourage les financeurs à diminuer son budget (de 370 millions d’USD/an, soit 270 millions d'€, mais qui a diminué de 20 % depuis 1995).\\nSes prises de position sont jugées parfois contradictoires et mal comprises ; promotion d’une agriculture productiviste d'après-guerre, lutte contre la faim, puis promotion des OGM en 2004 avant d’inversement annoncer que l'agriculture biologique « avec une véritable volonté politique », pourrait  contribuer à la sécurité  alimentaire de la planète.\\nCe pré-rapport invite la FAO à se « réinventer », son existence restant nécessaire et ses objectifs initiaux n'étant pas atteints. Elle devrait se repositionner, notamment par rapport aux ONG qui occupent une place croissante dans le domaine de l’aide alimentaire et au développement d'une agriculture durable. Le pré-rapport se conclut par 110 recommandations pour s’adapter à un contexte qui a évolué. Le rapport final est attendu en novembre 2007.\\n\\n\\n== Notes et références ==\\n\\n\\n== Annexes ==\\n\\n\\n=== Bibliographie ===\\nSoulaimane Soudjay, La FAO : Organisation des Nations Unies pour l'Alimentation et l'Agriculture, Alternatives rurales, mars 1998, 304 p.  (ISBN 2-7384-4403-2) [livre payant consultable en ligne]\\n(en) Hiralal Jana et Debabrata Basu, Role of Fao in global agricultural development [« Le rôle de la FAO dans le développement agricole global »], International Journal of Current Research, 2018  (ISSN 0975-833X) [article consultable en ligne]\\n\\n\\n=== Articles connexes ===\\nFAOSTAT\\nCodex Alimentarius\\nComité mixte FAO-OMS d'experts des additifs alimentaires\\nAmbassadeur de bonne volonté de la FAO\\nOrganisation mondiale de la santé\\nNouvelle alliance pour la sécurité alimentaire et la nutrition\\n\\n\\n=== Liens externes ===\\nSite officiel de la FAO\\nLes membres de l'organisation\\nInitiative de Partenariat mondial pour le renforcement des capacités de sélection végétale (GIPB)\\nSite de la pétition du projet One Billion Hungry\\nForum global sur la sécurité alimentaire et la nutrition (FSN Forum)\\nForum de connaissances\\n Portail de l’Organisation des Nations unies   Portail de l’agriculture et l’agronomie   Portail des relations internationales\",\n",
       " 'Agriculture industrielle': \"L'agriculture industrielle est une expression qualifiant un type d'agriculture moderne qui se caractérise par son intégration verticale ainsi qu'un chiffre d'affaires et une masse salariale plus semblable aux entreprises du secteur secondaire qu'aux exploitations agricoles à structure familiale. Elle est souvent confondue avec l'agriculture intensive (ou conventionnelle) qui décrit un ensemble de pratiques culturales et non une structure d'exploitation.Les exploitations industrielles servent avant tout à sécuriser, maîtriser et maximiser l'approvisionnement en matière première végétale d'une industrie de transformation spécifique (sucre, éthanol, viande,...).\\nL'agriculture industrielle en Europe se présente le plus souvent sous la forme de contrats de production entre une entité industrielle donnée et un agriculteur, fixant un cahier des charges plus ou moins précis de production concernant un engagement de volume, prix, durée, qualité et itinéraire technique définit (conventionnel, raisonné, biologique,...). Il peut engager tout ou partie de la surface cultivable d'un agriculteur. On retrouve ces structures dans les grands bassins agroalimentaires européens tels que le nord de la France, le Benelux et le nord est de l'Allemagne.\\nDans certaines régions du monde, n retrouve des exploitations industrielles sous forme de grandes exploitations possédées directement par l'industrie utilisatrice de la matière première végétale qui a profité de défrichement et de déboisement pour obtenir de grandes surface exploitable.\\n\\n\\n== Articles connexes ==\\nIndustrie agroalimentaire\\nAgriculture intensive\\nAgriculture familiale\\nAgriculture paysanne\\nÉlevage intensif\\nÉlevage en batterie\\nÉlevage extensif\\nAgriculture extensive\\nDéveloppement agricole\\n\\n\\n== Notes et références ==\\n\\n Portail de l’agriculture et l’agronomie   Portail de la production industrielle\",\n",
       " 'Permaculture': 'La permaculture est un concept systémique et global qui vise à créer des écosystèmes respectant la biodiversité . L\\'inspiration vient de la nature et de son fonctionnement (qui se nomme aussi biomimétisme ou écomimétisme). C\\'est une science appliquée de conception de cultures, de lieux de vie, et de systèmes agricoles humains utilisant des principes d\\'écologie et le savoir des sociétés traditionnelles pour reproduire la diversité, la stabilité et la résilience des écosystèmes naturels,.\\nÀ l\\'origine c’est un concept agricole inspiré par le modèle d\\'agriculture naturelle de l\\'agriculteur japonais Masanobu Fukuoka (1913-2008). Ce concept a été théorisé dans les années 1970 par les Australiens Bill Mollison (biologiste) et David Holmgren (essayiste). Le terme « permaculture » signifiait initialement « culture permanente » (de l\\'anglais « permanent agriculture ») ; puis avec le temps il a été étendu pour signifier « culture de ce qui est permanent dans le sens (sociologique) de pérenne ou viable ». En effet, les aspects sociaux font partie intégrante d\\'un système véritablement durable. Cette dernière signification est toutefois sujette à polémique.\\nAvec ce sens étendu, la permaculture forme des individus à une éthique ainsi qu\\'à un ensemble de principes. L\\'objectif étant de permettre à ces individus de concevoir leur propre environnement, et ainsi de créer des habitats humains plus autonomes, durables et résilients, en s\\'inspirant des fonctionnements naturels locaux. L\\'idée est d\\'atteindre une société moins dépendante des systèmes industriels de production et de distribution (identifiés par Bill Mollison comme le fondement de la destruction systématique des écosystèmes).\\nLa permaculture utilise entre autres des notions d\\'écologie, de paysage, d\\'agriculture biologique, d\\'agroécologie, de biomimétisme, d\\'éthique, de philosophie et de pédologie. La permaculture invite à mettre ces aspects théoriques en relation avec les observations réalisées sur le terrain de façon harmonieuse.\\n\\n\\n== Histoire ==\\n\\n\\n=== Origine du mot ===\\nLe terme « permaculture » est un mot-valise. Il est issu de l\\'expression américaine « permanent agriculture » qu\\'utilisa l\\'agronome américain Cyril George Hopkins dans son livre de 1910 Soil Fertility and Permanent Agriculture. Franklin Hiram King (en) la reprit dans son livre de référence de 1911 Farmers of Forty centuries: Or Permanent Agriculture in China, Korea and Japan. L\\'expression « permanent agriculture » sous-entend des méthodes culturales qui permettent aux terres de maintenir leur fertilité naturelle. En 1929, Joseph Russell Smith a résumé sa longue expérience de cultures pour l\\'alimentation humaine et animale avec des fruits et des noix dans le livre Tree Crops : A Permanent Agriculture.\\nLe terme « permaculture » lui-même a été utilisé pour la première fois par Bill Mollison et David Holmgren dans leur livre Permaculture One paru en 1978.\\n\\n\\n=== Influences ===\\nL’Australien Percival Alfred Yeomans introduisit dans les années 1950 la méthode des contours (« Keyline Design ») (en) comme méthode d’approvisionnement et de distribution en eau d’un site. Cette approche de l\\'aménagement influença fortement les fondateurs de la permaculture.\\nJusqu\\'à ce que Bill Mollison rencontre Masanobu Fukuoka en 1973 et lise son livre, \"La révolution d\\'un seul brin de paille\" (1975, traduit en anglais en 1978), il se demandait comment intégrer de manière satisfaisante les céréales et les légumineuses dans la permaculture. Les travaux du Japonais en agriculture naturelle le mirent sur la voie. Il avait réussi notamment la culture du riz et de l\\'orge sans travail du sol (sous une couverture permanente de trèfle blanc), sans désherbage mécanique, sans engrais préparé et sans pesticide, tout cela avec des rendements égaux et parfois supérieurs à ceux de l\\'agriculture chimique. Bill Mollison, dans son second livre Perma-Culture 2, fait doublement référence à Fukuoka : il s\\'appuie sur ses travaux agricoles, mais le cite aussi en introduction comme celui ayant le mieux énoncé la philosophie de la permaculture.\\nLe travail de Howard T. Odum fut aussi une influence importante, surtout pour David Holmgren. Le travail d’Odum s’est surtout axé sur l’écologie des systèmes, en particulier le principe de puissance maximum (en), duquel découle l\\'idée cardinale que les écosystèmes tendent à optimiser l\\'utilisation de l\\'énergie.\\nUne autre influence précoce furent les expériences et ouvrages de Ruth Stout aux États-Unis et d’Esther Deans en Australie,  pionnières des méthodes de culture sans creusement du sol. \\n\\nMais l\\'idée est beaucoup plus ancienne comme Christophe Gatineau le décrit dans son ouvrage Aux sources de l\\'agriculture, la permaculture : illusion et réalité. Il explique qu\\'aux XVIIe et XVIIIe siècles, des ouvrages tels que L\\'agronome mentionnent déjà l\\'existence de précurseurs de la permaculture. Ainsi, le dictionnaire portatif du cultivateur de Pons Augustin Alletz mentionne dès 1760 que : \\n« C’est une chimère que de prétendre donner une méthode d\\'Agriculture générale : il en faudrait une différente pour chaque province ou chaque canton ; car chaque province ne doit travailler à perfectionner que ce qu\\'elle possède, et ne faire d\\'essais que sur les productions analogues à son terroir. »\\n\\n Il explique également : « … C\\'est donc une nécessité pour le progrès de l\\'Agriculture de ne suivre que des exemples tirés d\\'un terrain, qu\\'on sait être semblable à celui qu\\'on veut fertiliser. ». Chaque province ne doit travailler à perfectionner que ce qu\\'elle possède. Cette diversité s\\'oppose à l\\'uniformité et à la mondialisation des pratiques et des savoir-faire agricoles ajoute l\\'auteur de cet essai. A cette époque l\\'agriculture n\\'était pas un ensemble de techniques mais un « art » à part entière (une méthode globale cohérente).\\n\\n\\n=== Mollison et Holmgren : cofondateurs de la permaculture ===\\nAu milieu des années 1970, les australiens Bill Mollison et David Holmgren commencèrent à développer des idées pouvant être utilisées pour créer des systèmes agricoles stables. Ce travail résultait de leur perception d’une utilisation toujours plus importante de méthodes agro-industrielles destructrices qui polluaient l’eau et la terre, réduisant la biodiversité et érodaient des millions de tonnes de terres auparavant fertiles. Une approche appelée « permaculture » fut leur réponse et fut rendue publique pour la première fois avec la publication en 1978 du livre Perma-Culture 1, une agriculture pérenne pour l\\'autosuffisance et les exploitations de toutes tailles.\\nLe terme permaculture signifiait initialement « agriculture permanente » mais fut, plus tard, étendu à « culture permanente » pour intégrer les aspects psychosociaux et pédagogiques nécessaires à la durabilité d\\'un système,.\\nAprès la publication de Permaculture One, Mollison et Holmgren affinèrent et développèrent leurs idées par l\\'application de leur méthode. Selon Holmgren, ils mirent en œuvre « la conception consciente de paysages qui miment les modèles et les relations observés dans la nature, visant à obtenir une production abondante de nourriture, de fibres textiles et d’énergie pour satisfaire les besoins locaux. ». Cette information est structurée dans des livres plus détaillés, à commencer par Permaculture 2. Mollison enseigna dans plus de 80 pays et son cours certifié de 72 heures fut suivi par des centaines d’étudiants. La permaculture vise à ce que le plus grand nombre d\\'individus se l’approprie, c’est pour cela que les principes de conception en permaculture sont le prolongement de la position qui veut que « la seule décision éthique est de prendre la responsabilité de notre propre existence et de celle de nos enfants ».  \\nÀ partir du début des années 1980, le concept avait évolué et était passé d’un système de conception de systèmes agricoles à un processus de conception plus holistique de création de sociétés humaines jugées durables. La permaculture se développe rapidement dans le monde avec la création d\\'instituts, de revues et de projets d\\'aide au développement avec Declan Kennedy en Allemagne, Robyn Francis en Australie et Rosemary Morrow dans de nombreuses contrées. \\nEn 1991, un documentaire en quatre parties d’ABC production appelé ‘the global gardener’ montrait la permaculture appliquée à différentes situations à travers toute la planète, portant le concept à l’attention d’un public plus large.\\nLe formateur anglais en permaculture Patrick Whitefield, suggère qu’il y a deux mouvements de permaculture : la permaculture originelle et la permaculture de design.\\n\\nLa permaculture originelle (agriculture permanente) est la conception consciencieuse et la gestion de systèmes agricoles productifs qui possèdent les caractéristiques de diversité, de stabilité et de résilience des écosystèmes naturels. C\\'est l\\'intégration harmonieuse de l\\'homme dans son environnement pour qu\\'il puisse en retirer ce qui lui est nécessaire, la nourriture, l\\'énergie, le logement, ou plus généralement tout ce dont il a besoin de matériel ou non pour vivre de manière soutenable.\\nLa permaculture de design (conception de systèmes naturels) considère les connexions dans un écosystème ainsi que son fonctionnement, et en dérive des principes d’efficacité énergétique applicables à tous les types de systèmes humains (transport, société, agriculture…). À travers une observation minutieuse des énergies naturelles, des systèmes de design efficaces peuvent être développés.\\n\\n\\n== Éthique ==\\nLa permaculture s\\'appuie sur une éthique. C\\'est un ensemble de valeurs fondamentales qui gouvernent la réflexion et l\\'action.\\nL\\'éthique de la permaculture peut être résumée ainsi :\\n\\nPrendre soin de la nature (les sols, les forêts, l’eau et l\\'air)\\nPrendre soin de l’humain (soi-même, la communauté et les générations futures)\\nPartager équitablement, limiter la consommation et la reproduction et partager le surplus.\\n\\n\\n== Principes ==\\n\\nLa permaculture repose sur observation minutieuse de l’efficacité des écosystèmes naturels pour en tirer des principes directeurs universels. Chaque pratiquant de la permaculture, ou permaculteur, peut ajouter de nouveaux principes qui enrichissent ceux des origines (en particulier ceux de Bill Mollison et de David Holmgren).\\nParmi ces principes, tirés de l\\'observation de systèmes naturels résilients, on peut citer:\\n\\nfavoriser la diversité\\nvaloriser les bordures\\nobserver et interagir\\ncapter et stocker l\\'énergie\\nobtenir une production\\nappliquer l\\'autorégulation et accepter la rétroaction\\nfavoriser les ressources renouvelables\\nles déchets des uns sont les ressources des autres\\nintégrer plutôt que séparer\\ntravailler avec la nature\\nle problème est la solution\\nchaque élément remplit plusieurs fonctions\\nchaque fonction est remplie par plusieurs éléments\\nprendre la responsabilité de sa propre vie\\n...La permaculture est une manière d’appréhender un écosystème dans sa globalité, d’observer les interactions de ses composants, et de chercher à y intégrer les activités humaines dans le respect des processus naturels. Elle suppose un respect de la nature, par exemple par la réduction des déchets et le remplacement des biocides par des moyens de contrôle naturels. Elle s\\'applique aussi bien au ré-aménagement d’une vaste zone industrielle que d’une ferme individuelle.\\nLa permaculture constitue un mode de pensée et une vision du monde qui pour certains va au-delà des seules pratiques de production agricole.\\n« La permaculture, c’est aider les gens à faire des choix de re-design : fixer de nouveaux buts et apporter un changement dans la manière de penser qui affectent non seulement leurs actions chez eux, mais également leurs actions sur leur lieu de travail, leurs emprunts et leurs investissements » (A Sampson-Kelly et Michel Fanton, 1991). Des exemples incluent l’emploi de solutions complexes de transport, une utilisation optimale des ressources naturelles comme l’énergie solaire (Mollison et Slay, 1991).\\n\\n\\n=== Aménagement de l\\'espace ===\\n\\nL’aménagement de l\\'espace, ou zonage, est fondamental pour la permaculture. Certains auteurs font écho à cette approche en architecture par exemple. Il suppose l\\'observation et la compréhension de zonages existants dans la nature.\\nLe concept de zonage en permaculture a une source prestigieuse avec l\\'économiste Allemand Johann Heinrich von Thünen qui théorisa l\\'aménagement de l\\'espace en cercles concentriques où la mise en valeur d\\'un espace est fonction de sa distance avec le centre. Plus la zone est éloignée de ce centre, et plus la viabilité économique de certaines productions diminuera. Si ce centre pour  Von Thünen est la ville, c\\'est souvent la maison en permaculture. Il convient de noter qu\\'en permaculture, ce n\\'est pas tant la viabilité économique que la moindre utilisation de l\\'énergie qui conduit à l\\'organisation de l\\'espace.\\n\\nAinsi, les zones de permaculture sont définies selon leur fréquence d\\'utilisation, c\\'est-à-dire la fréquence des déplacements nécessaires pour y accéder. Il est traditionnellement fait référence à 5 ou 6 zones, selon que l\\'on décrive la maison comme une zone en soi ou non. Les zones moins fréquemment récoltées ou visitées étant situées plus loin. Les 6 zones sont[réf. nécessaire] :\\n\\nZone 0 : la maison elle-même.\\nZone 1 : le jardin et les éléments nécessitant une attention quotidienne et soutenue.\\nZone 2 : le verger et la basse-cour.\\nZone 3 : les pâturages et les céréales. Cette production tend à être plus orientée vers la vente.\\nZone 4 : les pâtis et les bois. Cette zone est souvent laissée aux plantes indigènes.\\nZone 5 : espace sauvage. L\\'intervention humaine se limite à la récolte de plantes utiles spontanées.\\n\\n\\n=== Une méthode concrète ===\\nOBREDIM (acronyme anglais pour Observation, Boundary, Resource, Evaluation, Design, Implementation et Maintenance) est une méthode d\\'ingénierie permettant de démarrer un projet concret de permaculture,.\\n\\nL’observation permet de récolter des informations qui serviront à comprendre le fonctionnement naturel de l\\'écosystème local. L\\'observation d\\'un site sur une année entière permet de considérer de multiples facteurs : la topographie, les cycles biologiques de la faune, de la flore et du sol, les vents et leurs caractéristiques, l\\'écoulement des pluies et leur densité, l\\'ensoleillement et les ombres, le débit des cours d\\'eau, etc.\\nLes limites (Boundaries) sont aussi bien matérielles (limites géographiques ou financières), qu\\'immatérielles (compétence, législation, etc.).\\nLes ressources incluent les personnes impliquées, les finances, ce que vous pouvez faire pousser ou produire dans le futur, ce que vous voulez voir et faire sur le site.\\nL’évaluation de ces trois premières étapes vous permet de préparer les trois suivantes. C’est une phase ou l’on prend en considération toutes les choses à portée de main avec lesquelles on va travailler, existantes ou que l’on souhaite avoir, et où l’on regarde en détail leurs besoins spécifiques, afin d’identifier ses propres besoins en termes d’information.\\nLa conception (Design) est toujours un processus créatif et intense et l’on doit utiliser au maximum ses capacités à voir et à créer des relations synergiques entre tous les éléments identifiés dans la phase ressources.\\nLa mise en œuvre (Implementation) est littéralement la première pierre posée à l’édifice, quand on aménage soigneusement le site en fonction de l’agenda décidé.\\nLa maintenance est nécessaire pour garder le site à son maximum de santé, en faisant des ajustements si nécessaire.Une bonne conception  évitera le besoin de recourir à des ajustements majeurs. L\\'observation doit se poursuivre tout au long du projet permaculturel.\\n\\n\\n== Applications de la permaculture ==\\n\\n\\n=== Agriculture ===\\nL’agriculture est chronologiquement le premier objet de la permaculture et donc le plus étudié. Il existe une grande diversité d\\'approches différentes pour l\\'agriculture en utilisant la permaculture du simple fait qu\\'il existe une très grande variété de territoires et de climats. Toutefois, ce qui unit ces différentes pratiques est la recherche de la soutenabilité énergétique. C\\'est bien l\\'efficacité énergétique qui est toujours recherchée, que cela soit en évitant un travail inutile, faire d\\'un déchet une ressource, valoriser les services gratuits rendus par les écosystèmes, ou encore réduire les consommations et les déplacements.\\nLes praticiens agricoles de la permaculture pratiquent de fait une agriculture biologique et n\\'utilisent pas d\\'intrants chimiques issus pour la plupart de l\\'industrie pétrochimique. En permaculture, on pratique presque systématiquement le non labour afin de ne pas détruire la pédofaune et de ne pas oxyder le complexe argilo-humique, garant d\\'une bonne fertilité du sol. Cette simplification permet également de réduire la pénibilité du travail et l\\'investissement que représente un labour. La permaculture centre son approche sur l\\'arbre et la forêt. Ceci se traduit, par exemple, par la revalorisation des haies en bordure des cultures et des bocages comme garant de la biodiversité et de la limitation de l\\'érosion éolienne.\\nL’écologue Robert Harding Whittaker a montré qu’un écosystème naturel mature est largement plus productif que n’importe quel système humain de production de nourriture. La productivité primaire nette d\\'une forêt tempérée caduque est deux fois celle d\\'une terre cultivée moyenne (1 200 g/m2/an (gramme de matière sèche par mètre carré et par an) contre 650 g/m2/an), du fait d\\'une utilisation de l’énergie, de l’eau et des nutriments beaucoup plus efficace que celle de l\\'agriculture dite conventionnelle). La permaculture s’est donc orientée vers la recherche de la mise en place d’agroécosystèmes productifs s’inspirant du fonctionnement des écosystèmes naturels. L’agriculture naturelle de Masanobu Fukuoka ou les travaux sur la sélection de céréales pérennes du land institute de Wes Jackson en sont de bons exemples. La Ferme du Bec-Hellouin a poussé cette intensification à son maximum avec sa méthode nommée écoculture.\\nLes frères de la Communauté Saint-Jean, religieux catholiques, pratiquent la permaculture à la suite de l\\'appel du pape dans l\\'encyclique Laudato si’. Afin de prendre soin de la nature et de l\\'humanité, ils ont mis en place une Académie pour une écologie intégrale.\\n\\n\\n==== La forêt, une source d\\'inspiration majeure ====\\n\\nDu fait que les écosystèmes naturels sont supposément plus productifs que les systèmes de production humains, la permaculture s\\'attache à utiliser les modèles d\\'écosystèmes naturels et à s\\'en rapprocher autant que possible. Un des modèles fondamentaux est celui de la forêt, composé de sept strates :\\n\\nla canopée\\nla couche des arbres intermédiaires (fruitiers nains)\\nles arbustes\\nles herbes annuelles\\nles plantes de couverture\\nla rhizosphère\\nla strate verticale (lianes, vignes)\\nla mycosphèreL\\'efficacité productive supposée des systèmes forestiers pousse certains pratiquants de la permaculture à recréer des forêts en y introduisant des plantes utiles. On parle de jardin-forêt et aussi d\\'agroforesterie. A Mouscron en Belgique, Gilbert Cardon a réalisé en ville un jardin forêt avec plus de 2000 arbres sur 1800 mètres carrés. Martin Crawford a conçu une forêt-jardin de 2 acres (environ 8500 mètres carrées)  à Dartington en Angleterre.\\nCette pratique ancienne serait particulièrement adaptée au milieu tropical. Elle connait notamment une revalorisation importante depuis que la communauté scientifique s\\'y est intéressée à partir des années 1970. \\nD\\'autres approches de la permaculture se focalisent sur la pédologie forestière. Dans ce cas, l\\'accent est mis sur la création d\\'humus (ou humification) et à la couverture permanente du sol par paillage (parfois aussi appelé mulch) comme dans les écosystèmes naturels forestiers, où feuilles, branchages et autres déchets forment une litière permanente. Dans ce cas, la présence formelle d\\'arbres n\\'est pas nécessaire, comme dans les pratiques du jardin autofertile (autrement appelé synergétique) d\\'Emilia Hazelip, ou dans les pratiques agricoles à base de BRF (Bois Raméal Fragmenté) développées notamment par Gilles Lemieux au Québec.\\nLe modèle forestier est aussi particulièrement valorisé en permaculture pour sa résilience écologique et son efficacité à lutter contre les problèmes d\\'érosion du fait d\\'une couverture végétale et d\\'un développement racinaire permanent retenant ainsi le sol.\\n\\n\\n==== Biodiversité ====\\n\\nLa permaculture cherche à stimuler la diversité dans ses aménagements agricoles. L\\'agriculture est donc au minimum sur le principe de la polyculture. Bien plus, elle en recherche constamment les meilleures associations culturales et les compagnonnages de plantes. En cela, la permaculture s\\'oppose à l\\'approche intensive de l\\'agriculture tournée vers les monocultures.\\nPar exemple, la permaculture valorise les associations culturales traditionnelles qui ont montré leur efficacité comme la culture de la courge avec le maïs et le haricot (Milpa). Pratiquée encore couramment, en Amérique centrale notamment, elle est efficace car sur une surface réduite le haricot permet de fertiliser le sol en fixant l\\'azote de l\\'air par les rhizobiums de ses racines, le maïs quant à lui fournit un tuteur pour le haricot, et les feuilles de la courge couvrent le sol et en conservent l\\'humidité.\\nDe même, les synergies entre différentes plantes sont fortement utilisées. De nombreux compagnonnages sont possibles : poireau avec fraisier, pomme de terre et ail, navet et laitue… Ces associations variétales permettent de bénéficier de plusieurs effets positifs : fertilisation par fixation d\\'azote, protection contre des nuisibles, utilisation de l\\'espace optimal tant aérien que racinaire, etc.\\n\\n\\n==== Agriculture de conservation, agroforesterie ====\\nC’est l’agriculture du carbone et du sol vivant, qui vise à terme au non travail du sol et au semis direct, et à nourrir le sol (et non la plante) en accumulant sur le sol une litière qui fait office de mulch et de nourriture pour le sol, et en sous-sol du carbone par les racines des plantes pérennes (agroforesterie) ou annuelles (intercultures en agriculture de conservation) qui meurent selon des cycles réguliers (racines fines). Le sol étant vivant car constamment nourri par des apports de matières organiques réguliers, le travail du sol n’est plus nécessaire, il se fait par le travail de la vie du sol. Le plus délicat dans ce genre d’agriculture est la transition entre les deux phases, dans lesquelles la compaction et le salissement des parcelles sont des problèmes dont les solutions sont à planifier sur plusieurs années pour les éradiquer.\\n\\n\\n==== Effet de bordure ====\\n\\nAvec l\\'émergence de l\\'écologie scientifique, ont été analysés de plus en plus finement les effets de frontière écologique. La zone de transition entre deux écosystèmes s\\'appelle un écotone. Pour un permaculteur, cette bordure entre deux écosystèmes est un lieu privilégié, plus riche en biodiversité et en interactions. En cela, c\\'est un lieu dont le potentiel productif est particulièrement notable. L\\'implantation de haies (bocagères ou non) qui font l\\'interface entre la forêt et la parcelle cultivée, de plans d\\'eau qui disposent d\\'une interface entre l\\'eau et le sol sont particulièrement recherchés dans les projets de permaculture. Afin de stimuler ces effets de bordure entre écosystèmes, les permaculteurs cherchent régulièrement à maximiser ces zones d\\'échanges en leur donnant des formes ondulantes ou arrondies.\\n\\n\\n==== Plantes vivaces ====\\nLes plantes vivaces sont souvent utilisées dans les conceptions permaculturelles. Puisqu’elles n’ont pas besoin d’être replantées chaque année, elles ont généralement besoin de moins de maintenance et de fertilisants. Elles sont importantes surtout dans les zones extérieures et dans les systèmes à étages.\\n\\n\\n==== Animaux ====\\n\\nBeaucoup de projets de permaculture essayent d’utiliser des animaux plutôt que des humains. Les poules peuvent être utilisées comme méthode de contrôle des adventices en liberté ou dans un tracteur à poules et fournissent de multiples produits (œufs, viande, guano). Quelques types de systèmes agroforestiers combinent les arbres et les animaux brouteurs. Ces animaux sont des animaux domestiques utilisés comme co-travailleurs, en mangeant une nourriture non comestible pour l’humain comme les limaces, les termites, et font intégralement partie de la lutte contre les nuisibles, en fournissant de plus des fertilisants à travers leurs excréments et en contrôlant certaines espèces d\\'herbes indésirables.\\n\\n\\n==== Énergie ====\\n\\nAppliquer les valeurs de la permaculture signifie utiliser moins de sources d’énergie non renouvelable, en particulier les formes dérivées du pétrole. Brûler des combustibles fossiles contribue à l’effet de serre et au réchauffement climatique. La permaculture appliquée à l’agriculture a pour vocation de créer un système renouvelable qui ne dépend que d’une quantité minimale d’énergie. L’agriculture traditionnelle pré-industrielle était intensive en termes de travail, et l’agriculture industrielle est intensive en termes d’énergies fossiles. La permaculture agricole est elle intensive en matière grise ; elle est une manière de travailler plus en phase avec la nature. L’énergie utilisée doit de préférence provenir de ressources renouvelables comme le vent, le solaire passif, ou les biocarburants.\\nUn bon exemple est la serre poulailler. En accolant le poulailler à une serre solaire, on réduit le besoin de chauffer la serre avec des énergies fossiles, car la serre est réchauffée par le métabolisme des poulets. On utilise également leurs déchets (plumes, déjections, chaleur, grattage du sol) pour diminuer le travail : les déjections fertilisent, les plumes forment l\\'équivalent d\\'un paillis, la chaleur diminue la quantité d’énergie à apporter pour garder une température voulue, le grattage permet de se débarrasser des mauvaises herbes et des insectes. Dans une production en batterie, tous ces sous-produits sont considérés comme des déchets, toute l’énergie étant concentrée sur la production d’œufs.\\n\\n\\n=== Villes ===\\n\\nLe mouvement des villes en transition a été initié par le permaculteur Rob Hopkins, tout d\\'abord en 2005 en Irlande, avec les étudiants de l\\'université de Kinsale, puis en 2006 dans la ville anglaise de Totnes. L\\'initiative des villes en transition vise à créer des communautés résilientes face à la triple menace du pic pétrolier, du dérèglement climatique et d\\'une crise économique mondiale.\\n\\n\\n=== Économie ===\\n\\nUn principe de base est d’ajouter de la valeur à une production existante. On cherche donc à fournir un large éventail de solutions incluant ses éthiques de base comme partie intégrante du design final qui a ajouté de la valeur au système considéré. Il pose la question économique de savoir comment faire, soit de l’argent en vendant la production, soit de l’échanger contre du travail ou des services comme dans un système d\\'échange local (SEL). Chaque design final doit donc inclure des considérations économiques ainsi que donner un poids égal pour maintenir l’équilibre écologique, en s’assurant que les besoins des gens travaillant sur le projet sont satisfaits et que personne n\\'est exploité.\\nL’économie de la communauté nécessite un équilibre entre les trois aspects que comprend une communauté : la justice, l’environnement et l’économie, aussi appelée le triple facteur décisif, ou triple E (écologique- économique-éthiques). Un marché coopératif de paysans serait un bon exemple d’une telle structure. Les agriculteurs sont les travailleurs et les propriétaires. De plus, toute l’économie est pondérée par son écologie. Aucun système économique ne peut exister indépendamment de son écosystème ; par conséquent tous les coûts externes doivent être pris en compte quand on parle d’économie.\\n\\n\\n== Droits d\\'auteur et marque déposée ==\\nPendant longtemps Bill Mollison a prétendu avoir les droits d\\'auteur du mot permaculture, et ses livres affirmaient sur la page de copyright « Le contenu de ce livre et le mot permaculture sont protégés par copyright ». Ces déclarations ont été acceptées au pied de la lettre au sein de la communauté permaculturelle. Toutefois, le droit d\\'auteur ne protège pas les noms, les idées, les concepts, les systèmes ou les méthodes de faire quelque chose, il ne protège que l\\'expression ou la description d\\'une idée, et non l\\'idée elle-même. Finalement Mollison a reconnu qu\\'il s\\'était trompé et qu\\'il n\\'existe pas de protection du droit d\\'auteur sur le mot permaculture.\\nEn 2000 l\\'institut de permaculture de Mollison basé aux États-Unis a cherché une marque déposée pour le mot permaculture lorsqu\\'il est utilisé dans les services éducatifs tels que des cours, séminaires ou ateliers. La marque déposée aurait permis à Mollison et à ses deux instituts de permaculture (un aux États-Unis et un en Australie) de définir des lignes directrices exécutoires sur la façon dont la permaculture pourrait être enseignée et qui pourrait l\\'enseigner, en particulier pour le Cours Certifié de Permaculture. La marque déposée a échoué et a été abandonnée en 2001. Toujours en 2001 Mollison demanda en Australie une marque déposée pour les termes « Cours Certifié de Permaculture » et « Conception permaculturelle ». Ces demandes ont été retirées toutes les deux en 2003. En 2009, il a cherché une marque déposée pour ses deux livres Permaculture - A Designer\\'s Manual et Introduction to Permaculture. Ces demandes ont été retirées en 2011. Il n\\'y a jamais eu de marque déposée du mot permaculture en Australie. En 2013, Olivier Barbié a demandé à déposer la marque permaculture à l\\'INPI (France) et cette demande a été publiée.\\n\\n\\n== Limites à son développement ==\\n\\nConnaissant un engouement en France depuis les années 2000, de nombreux projets de maraîchage biologique émergent avec la permaculture comme système fondamental. Cependant il convient d\\'en mesurer l\\'échelle économique. En effet, le maraîchage biologique est basé sur une part importante de charges de main d’œuvre, entre 40 et 60 % dans la plupart des fermes, or la permaculture induit régulièrement le recours à des techniques évitant les méthodes mécanisées (paillage évitant les binages avec tracteur, l\\'usage de planteuse, de machines de récoltes). \\nCes pratiques ont pourtant été validées à mainte reprises, notamment par le réseau Maraîchage sur sol vivant, où les maraîchers ne travaillent,  pour certains,  plus leur sol depuis des années et utilisent du paillage. Les rendements obtenus sont parfois supérieurs aux rendements moyens observés en agriculture conventionnelle, ce qui est très intéressant et encourage à continuer les recherches et les expérimentations.\\nLe modèle forestier souvent mis en avant pour la structure naturellement préservée de ses sols, est mis à mal dans les micro-fermes en permaculture ou agro-écologiques par l\\'apport fréquent et massif de matières organiques provenant d\\'autres exploitations céréalières, de centres équestres.\\nLa permaculture rassemble des conceptions d\\'aménagement, une philosophie, des méthodes de travail du sol, tout à fait nouvelles dans le milieu agricole. Dans un cadre professionnel, où les critères économiques sont centraux, le suivi de méthodes approuvées par l\\'ensemble de la communauté professionnelle apporte des garanties de réussite : la permaculture étant encore en phase de recherche sous les climats et dans les terroirs français, il convient de mesurer avec précision l\\'impact de chacune de ces méthodes, or les données technico-économiques et comparatives sont presque absentes.\\n\\n\\n== Critiques ==\\nLinda Chalker-Scott, professeure associée d’horticulture et d’architecture du paysage à l’université d\\'État de Washington, reproche un manque de rigueur scientifique à la permaculture et soulève le problème de l\\'utilisation d\\'espèces envahissantes,.\\nNick Romanowki critique les méthodes et rendements en aquaculture proposés par Bill Mollison dans ses livres Sustainable Freshwater Aquaculture et Farming in ponds and dams.\\nPeter Harper, du Centre for Alternative Technology (Pays de Galles), met en garde contre le mouvement idéologique, qui se développe à côté d\\'une permaculture qui tente de résoudre les problèmes liés à l\\'agriculture de manière scientifique, sans dogmatisme et sans idéalisme excessif.\\nChristophe Gatineau, permaculteur, auteur de livres sur l\\'agriculture, met également en évidence dans ses études un point qui éloigne la permaculture de ses fondements, à savoir un développement durable qui s\\'appuie sur l\\'agriculture à la place de l\\'économie et qui prend en compte les générations futures et la biosphère.\\n\\n\\n== Notes et références ==\\n\\n\\n== Voir aussi ==\\n\\n\\n=== Bibliographie francophone ===\\nBill Mollison, Introduction à la Permaculture, La-Chapelle-sous-Uchon, Passerelle Éco, 1991 (ISBN 978-2-9533448-4-4)  en anglais, 2012 en français. Dernier ouvrage de Bill Mollison.\\nBill Mollison et David Holmgren, Perma-culture 1, une agriculture pérenne pour l\\'autosuffisance et les exploitations de toutes tailles, Paris, Éditions Debard, 1978 (ISBN 2-86733-030-0)1978 en anglais, 1986 en français, réédition en 2011\\nBill Mollison (trad. de l\\'anglais), Perma-culture 2, aménagements pratiques à la campagne et à la ville, Condé-sur-Noireau, Éditions Équilibres aujourd\\'hui, 1979, 180 p. (ISBN 2-87724-009-6)1979 en anglais, 1993 en français, réédition en 2011\\nDavid Holmgrem (trad. de l\\'anglais), L\\'essence de la permaculture, Marsac, Imagine un colibri, 1996, 188 p. (ISBN 978-2-9537344-0-9, lire en ligne)1996 en anglais, mars 2011 en français\\nLaurent Schlup, Permaculture (une agriculture permanente pour une culture humaine permanente), Éditions Kangaroots Permaculture (Suisse), 2012, 366 p. (ISBN 978-2-8399-1114-6)\\nBenjamin Broustey, Christophe Curci, Méthodologie et outils clefs du design en permaculture, Éditions Imagine un colibri, 2017  (ISBN 9791095250005)\\nPatrick Whitefield (trad. de l\\'anglais), Créer un jardin-forêt : une forêt comestible de fruits, légumes, aromatiques et champignons au jardin, Marsac, Imagine un colibri, 1996, 188 p. (ISBN 978-2-9537344-0-9)1996 en anglais, mars 2011 en français\\nPatrick Whitefield, Graines de permaculture, La-Chapelle-sous-Uchon, Passerelle Éco, 1993 (ISBN 978-2-9533448-0-6)1993 en anglais, 2009 en français\\nRoss Mars et Jenny Mars, Premiers pas en permaculture, La-Chapelle-sous-Uchon, Passerelle Éco\\nSepp Holzer (trad. de l\\'allemand), La permaculture de Sepp Holzer, Marsac, Imagine un colibri, 2008, 220 p. (ISBN 978-2-9537344-1-6)2008 en allemand, mars 2011 en français\\nRosemary Morrow, Petit manuel pour faire ses semences, Imagine un colibri, 2002, 192 p. (ISBN 978-2-9537344-2-3)2002 en anglais, mars 2011 en français\\nGraham Burnett (trad. de l\\'anglais), La permaculture, une brève introduction, Montréal (Québec)/Escalquens, Écosociété, 2001, 141 p. (ISBN 978-2-89719-060-6) 2001 en anglais (3e édition 2012), mai 2013 en français\\nKurt Förster (trad. de l\\'allemand), La permaculture dans un petit jardin. Créer un jardin auto-suffisant, Paris, Eugen Ulmer, 2014, 159 p. (ISBN 978-2-84138-721-2)\\nCarine Mayo, Le guide de la permaculture au jardin : pour une abondance naturelle, Mens, Terre vivante, 2014, 189 p. (ISBN 978-2-36098-125-0)\\nChristophe Gatineau, Aux sources de l\\'agriculture, la permaculture : illusion et réalité, Limoges, les Éd. du Sable fin, 2014, 118 p. (ISBN 978-2-9539489-0-5)\\nChristophe Gatineau, La permaculture de 1978 à nos jours , mai 2015  (ISBN 978-2-9539489-1-2)\\nClaude Bourguignon et Lydia Bourguignon, Le sol, la terre et les champs : Pour retrouver une agriculture saine, Le Sang de la Terre, 2008, 223 p. (ISBN 978-2-86985-188-7 et 2-86985-188-X)\\nPerrine et Charles Hervé-Gruyer (préf. Philippe Desbrosses, postface François Léger), Permaculture : guérir la Terre, nourrir les hommes, Arles, éd. Actes Sud, coll. « Domaine du possible », 10 septembre 2014, 367 p., 19 cm (ISBN 978-2-330-03434-4, notice BnF no FRBNF43908329) Comporte en annexe, sur 30 pages, une « Petite bibliothèque permaculturelle ».\\nToby Hemenway Le jardin de Gaïa : quand l\\'être humain se marie à la nature dans une relation gagnant-gagnant : regard subtil et expression d\\'une permaculture aboutie, (2001,  (ISBN 978-1890132521), seconde édition plus complète en 2009,  traduction en français de Lysianne Rondeau, Marsac : Éditions Imagine un colibri, 269 p, 2016\\nDamien Dekarz, La permaculture au jardin mois par mois, Éditions du Terran, 2019, 175 p.  (ISBN 978-2-35981-118-6)\\n\\n\\n=== Filmographie ===\\nCyril Dion et Mélanie Laurent, Demain, 2015.\\nAdrien Bellay, L\\'éveil de la permaculture, 2016.\\nGuillaume Thébault, Futur d\\'espoir, 2016.\\nSébastien Majonchi, Chemins de travers, 2019\\nCarinne Coisman et Julien Lenoir, Permaculture : La Voie de l\\'autonomie, 2019.\\n\\n\\n=== Articles connexes ===\\n\\n\\n=== Liens externes ===\\nSite francophone à partir des travaux de David Holmgren\\nSite de L’université populaire de permaculture\\n\\n Portail de la permaculture   Portail de l’agriculture et l’agronomie   Portail de l’environnement',\n",
       " 'Renault Agriculture': \"Renault Agriculture était la filiale de Renault spécialisée dans les équipements agricoles.\\nDisparition en 2008.\\nLe dernier tracteur Renault, un tracteur Ergos (pour la DDE), est sorti des usines en 2009.\\n\\n\\n== Historique ==\\nEn 1898, Louis Renault construit sa première voiture et gravit la rue Lepic à Montmartre. En 1913, le cap des dix mille voitures produites est franchi.\\nEn 1918, Louis Renault possède une propriété à Herqueville où il exploite plusieurs milliers d'hectares de terres. Pour son propre domaine, il crée son premier char agricole, le type « GP » à partir de l'expérience acquise lors de la Première Guerre mondiale avec le char FT. Les premiers tracteurs sont donc à chenilles. Les roues métalliques ou à bandage sont introduites en 1926 et les pneumatiques en 1933.\\nLa gamme Renault s'étend ensuite afin de pouvoir proposer une solution dans les différents domaines de l'agriculture.\\nDurant la Seconde Guerre mondiale, les usines sont bombardées à plusieurs reprises, ce qui interrompt la fabrication des tracteurs qui a débuté au Mans en 1941. Louis Renault meurt en 1944 dans d'obscures conditions.\\nL'usine du Mans devient à partir de la Libération le centre de fabrication des tracteurs agricoles de Renault. Son histoire se confond alors avec celle de la Division Matériel Agricole puis de Renault Agriculture.\\n1956 voit naître la série « D » dont le D22 et le Renault 421, qui est produit à plus de 33 000 exemplaires, les séries « E » puis « N » et « Super » en sont dérivées. Renault connaît alors le succès avec ses tracteurs équipés de moteurs MWM.\\nChez Renault, les lettres sur un modèle signifient le type de carburant et le nombre indique la puissance. Par exemple, pour le modèle D22, le « D » est le diesel et « 22 » est la puissance qui est de 22 ch.\\nLa concurrence étrangère se développe ; les principaux concurrents de Renault sont Fiat, Ford, International Harvester, John Deere ou Massey Ferguson.\\nÀ la fin des années 1960, la baisse du marché porte un coup à l'ensemble des constructeurs et Renault doit se doter d'une gamme plus puissante.\\nEn 1972, Renault passe un accord avec le constructeur italien Carraro Agritalia pour des tracteurs légers et spéciaux.\\nEn 1981, la cabine « TX » apporte de nombreux progrès (confort, accès à la mécanique) sur les tracteurs de la gamme haute. En 2000, elle est toujours présente sur le Témis.\\nAu début des années 1990, Renault Agriculture décide un renouvellement massif de sa gamme ; on voit ainsi apparaître de nombreux nouveaux modèles comme le Ceres et l'Ares. Mais le marché est très concurrentiel et pas assez rentable aux yeux de Renault. C'est pourquoi, après un accord avec John Deere pour vendre un tracteur commun et un partenariat avec Massey Ferguson pour fabriquer des boîtes de vitesses, Renault décide de céder 51 % de ses parts à Claas en février 2003.\\nL'accord signé prévoit que Claas puisse porter sa participation à 80 % du capital, Renault s'engageant de son côté à conserver 20 % de sa filiale au moins jusqu'en 2010.\\nÀ la suite de la commercialisation des tracteurs sous la marque Claas et la réorganisation du réseau de vente, une forte croissance des ventes suit dans les deux années après cet accord, principalement grâce au développement important des ventes à l’étranger qui augmentent de 22 % en 2005 selon l'entreprise.\\nLe 18 janvier 2006, Claas monte à 80 % dans le capital de Renault Agriculture.\\nDepuis 1945, près de 770 000 tracteurs ont été livrés par Renault sur les cinq continents. En 2002, 9 343 tracteurs ont été produits.\\nDepuis 2008, l'allemand Claas détient 100 % du capital Renault Agriculture S.A.S.\\n\\n\\n== Derniers modèles ==\\nLes tracteurs portent un nom de dieu antique depuis 2000.\\n\\n\\n=== Gamme générale ===\\n\\n\\n==== Ceres (à partir de 54 ch) ====\\n\\nLes tracteurs de la gamme Ceres sont adaptés aux travaux des exploitations de polyculture et d'élevage.\\n\\n\\n==== Celtis (à partir de 90 ch) ====\\nLe Celtis est apparu en 2002 remplaçant à terme le Ceres. Il est surtout utilisé pour l'élevage et le travail aux champs. Le Celtis est motorisé par un John Deere 4-cylindres turbo de 4,5 litres.\\n\\n\\n=== Témis (à partir de 95 ch) ===\\nLe Témis est doté d'un moteur de 95 à 155 ch. Témis est équipé soit d'un inverseur sous charge, soit d'un inverseur mécanique, ce qui en fait un tracteur polyvalent. L’effort maximum atteint 8,8 tonnes sur Témis 650. La cabine Hydrostable est suspendue sur quatre points d’appui, exclusivité mondiale.\\n\\n\\n==== Ares (à partir de 100 ch) ====\\n\\nLa gamme Ares ajoute un nouveau système de relevage électronique Tracto Control, une nouvelle génération de cabine Hydrostable et une électronique embarquée conçus pour faciliter la tâche de l'agriculteur. Il existe quatre versions : Ares 800, 700, 600 et 500.\\n\\n\\n==== Atlès (à partir de 197 ch) ====\\n\\nAtlès offre 18 rapports avant, 8 rapports arrière. Il existe une version : Atlès 900, les motorisations vont de 197 à 250 ch.\\n\\n\\n=== Tracteurs spéciaux ===\\n\\n\\n==== Dionis, Fructus (de 52 à 76 ch) ====\\n\\nC'est le plus petit de la gamme Renault Agriculture (de 52 à 76 ch). Il est adapté pour passer à travers les arbres et vignes grâce à son faible encombrement. Les Dionis et Fructus offrent plusieurs options : choix des puissances proposé en deux roues ou quatre roues motrices, arceau ou cabine, etc..\\n\\n\\n==== Palès (de 52 à 76 ch) ====\\nPalès est un tracteur polyvalent, à l’aise dans les bâtiments comme aux champs.\\n\\n\\n==== Ergos (de 77 à 97 ch) ====\\n\\nErgos est un porteur industriel d’outils. Sa structure renforcée et équilibrée, son empattement, correspondent à une utilisation intensive avec différents outils, portés en latéral, sur l’arrière ou de type chargeur. Ergos est équipé du système Rgopilot, qui permet de contrôler tous les outils via une seule commande, une innovation médaille d'or au SIMA 2001. Il offre une transmission hydrostatique équipée d’un régulateur électronique. Disponible sur les modèles Ergos 100 et 110, le système Hydroshift améliore les conditions de travail.\\nJusqu'en 2005, Ergos est le dernier tracteur à porter la marque Renault.\\nRenault Agriculture a aussi sorti le 851 qui fut un des meilleurs modèles de Renault.\\n\\n\\n== Modèles rares ==\\nRenault type 293-TEI de 20 ch, produit en 113 exemplaires de 1930 à 1938.\\nRenault YL de 20 ch, produit de 1933 à 1938 en 529 exemplaires.\\n\\n\\n== Modèles par année de sortie ==\\n\\n1919 : sortie du premier tracteur Renault : le type GP, il est suivi du type GU. Ils sont munis de chenilles et sont équipés d'un moteur 4-cylindres de 4 536 cm3.\\n1920 : HI.\\n1921 : le type HO sera le premier tracteur à abandonner les chenilles, au profit des roues classiques.\\n1926 : PE. Type fabriqué en 1 840 exemplaires jusqu'en 1937. Plusieurs évolutions et une version à gazogène seront proposées.\\n1930 : RK.\\n1932 : VI. Premier tracteur français à moteur Diesel.\\n1933 : YL, VY.\\n1938 : AFMD, AFMH. Tracteurs à chenilles.\\n1938 : AFV1, AFVH.\\n1941 : 301 H, 305 H, 304 H.\\n1944 : 304 E1.\\n1947 : R 3040. Renault introduit la couleur orange pour ses tracteurs.\\n1948 : R 3041.\\n1949 : R 3042/3043, R 3044/3045 vigneron.\\n1951 : R 7012/7013, R 7022/7023.\\n1954 : R 3046.\\n1956 : D-22, D-30, E-30, D-35.\\n1958 : D-16.\\n1960 : pour répondre à la demande de tracteurs puissants, Renault importe d'Italie le Motomeccanica Super 108 de 60 ch en attendant la sortie du 385/Master.\\n1960 : N-73, N-72, N-71, N-70, N-31. Existent en versions étroites.\\n1962 : Super 5, Super 7 Diesel et essence.\\n1963 : 385. Moteur Alfa ou moteur MWM.\\n1964 : Super 3, Super 6, Master 1, Master 2.\\n1965 : Super 2 D, Super 3 D, Super 4 D, Super 5 D, Super 6 D, Super 7 D, Super 7 D essence.\\n1966 : Master 1 TP, Master 1 et 2 4x4, Super 5, 6 et 7 D 4x4.\\n1967 : R 86, R 88. À partir de 51 ch, remplace la série Master.\\n1968 : R 51, R 53, R 55, R 56, R 57, R 58, R 456. À partir de 33 ch, remplacent la série Super.\\n1968 : R 50, R 60, R 70, R 80. Tracteurs étroits.\\n1969 : R 92, R 94, R 96.\\n1970 : R 98, R 496, R 498.\\n1972 : 551, 651. À partir de 55 ch, Renault 461, 46 ch\\n1973 : 301, 361, 421, 461.\\n1974 : 751, 851, 951 (disponible en 2 et 4 roues motrices), 752 en version industrielle.\\n1981 : 103 TX.\\n1983 : 103 TS.\\n1984 : Carraro 701.\\n1988 : 103-14, édition spéciale (couleur blanche, disponible en deux et quatre roues motrices, avec turbocompresseur).\\n1989 : 70-34 ,75-34 ,80-34 ,85-34 ,90-34\\n1992 : Céres\\n1996 : Arès\\n2002 : Atlès\\n2002 : Celtis\\n2008 : rachat total de Renault Agriculture par Claas\\n\\n\\n== Notes et références ==\\n\\n\\n== Voir aussi ==\\n\\n\\n=== Bibliographie ===\\nJacques Gouet, Encyclopédie du tracteur Renault 1919-1970, E-T-A-I, 2003  (ISBN 2-7268-9358-9)\\nJacques Gouet, Encyclopédie du tracteur Renault depuis 1971, E-T-A-I, 2003  (ISBN 2-7268-9359-7)\\nJacques Gouet, Encyclopédie du tracteur Renault 2000-2005, E-T-A-I, 2006  (ISBN 2-7268-8698-1)\\nBernard Salvat, Tracteurs agricoles Renault 1917-2003, toute l'histoire, Éditions Campagne & Compagnie, 2012  (ISBN 979-10-90-213-10-4)\\n\\n\\n=== Articles connexes ===\\nRenault\\nRenault Véhicules industriels\\n\\n\\n=== Liens externes ===\\nHistorique de Renault Agriculture sur Planète Renault Portail des entreprises   Portail de l’agriculture et l’agronomie   Portail de la France\"}"
      ]
     },
     "execution_count": 18,
     "metadata": {},
     "output_type": "execute_result"
    }
   ],
   "source": [
    "hydro_keyword = 'agriculture'\n",
    "nbs = 15\n",
    "wiki_pages ={}\n",
    "result_set = search_wiki_(hydro_keyword,nbs,wiki_pages)\n",
    "result_set"
   ]
  },
  {
   "cell_type": "code",
   "execution_count": null,
   "metadata": {},
   "outputs": [],
   "source": []
  },
  {
   "cell_type": "markdown",
   "metadata": {},
   "source": [
    "# 2 - EXTRACT TERMS FROM \"wiki_pages\"  USING BIOTEX\n"
   ]
  },
  {
   "cell_type": "code",
   "execution_count": null,
   "metadata": {},
   "outputs": [],
   "source": []
  },
  {
   "cell_type": "markdown",
   "metadata": {},
   "source": [
    "# 3 - CHOIX DES TERMES EXPERTS"
   ]
  },
  {
   "cell_type": "code",
   "execution_count": null,
   "metadata": {},
   "outputs": [],
   "source": []
  },
  {
   "cell_type": "markdown",
   "metadata": {},
   "source": [
    "# 4 - COLLECTE DE DOCUMENTS VIA GOOGLE EN UTILISANT LES TERMES EXPERTS"
   ]
  },
  {
   "cell_type": "code",
   "execution_count": 6,
   "metadata": {},
   "outputs": [],
   "source": [
    "def pause(logger, minutes=0.5):\n",
    "    \"\"\"\n",
    "\t\tEffectue une pause.\n",
    "\n",
    "\t\t@type  log: Logger.\n",
    "\t\t@param log: Fichier de log.\n",
    "\n",
    "\t\t@type  minutes: Entier.\n",
    "\t\t@param minutes: Temps en minute à attendre.\n",
    "\t\"\"\"\n",
    "    date = datetime.now().strftime('%d-%m-%Y:%Hh%M')\n",
    "    current_time = datetime.now() + timedelta(minutes=minutes)\n",
    "\n",
    "    logger.info(\"{0} : Nombre limite de requete atteint. Reprise du programme : {1}\".format(date, current_time.strftime(\n",
    "        '%d-%m-%Y:%Hh%M')))\n",
    "\n",
    "    while datetime.now() < current_time:\n",
    "        time.sleep(0.5)"
   ]
  },
  {
   "cell_type": "code",
   "execution_count": 7,
   "metadata": {},
   "outputs": [],
   "source": [
    "#with open(\"keywords/agriculture.txt\") as keywords_file:\n",
    "#    words = keywords_file.readlines()\n",
    "#    log.info(\"Lecture de keywords.txt ... \\n\")"
   ]
  },
  {
   "cell_type": "code",
   "execution_count": 8,
   "metadata": {},
   "outputs": [],
   "source": [
    "def generation_requetes(motscles):    \n",
    "    \"\"\"\n",
    "\t\tGénère les requêtes à effectuer.\n",
    "\t\t@type  motscles: Liste de string.\n",
    "\t\t@param motscles: Liste des mots clés à rechercher.\"\"\"\n",
    "    \n",
    "    with open(motscles) as keywords_file:\n",
    "        words = keywords_file.readlines()\n",
    "        print(words)\n",
    "\n",
    "    for i in range(0, len(words), 1):\n",
    "        print(i)\n",
    "        # motscles_couple = motscles[i].split(\"+\")\n",
    "\n",
    "        requete = \"{0}\".format(words[i])\n",
    "\n",
    "        if not any(requete in s for s in requetes_effectuees):\n",
    "            yield requete"
   ]
  },
  {
   "cell_type": "code",
   "execution_count": 9,
   "metadata": {},
   "outputs": [],
   "source": [
    "#kw = \"/home/rodrique/Bureau/Jupyter-notebook/Protocole_3M/doc_collect_adapted/keywords/urbanisation_500.txt\"\n",
    "#x = generation_requetes(kw)\n",
    "#for requete in x:\n",
    "#    print('###', requete)"
   ]
  },
  {
   "cell_type": "markdown",
   "metadata": {},
   "source": []
  },
  {
   "cell_type": "code",
   "execution_count": 10,
   "metadata": {},
   "outputs": [],
   "source": [
    "import requests\n",
    "from bs4 import BeautifulSoup\n",
    "def run_requete(search):\n",
    "    q = '+'.join(search.split())\n",
    "    url = 'https://www.google.com/search?q=' + q + '&ie=utf-8&oe=utf-8'\n",
    "    page = requests.get(url)\n",
    "    \n",
    "    #page = requests.get(f\"https://www.google.com/search?q={search}\")\n",
    "    soup = BeautifulSoup(page.content, \"html5lib\")\n",
    "    links = soup.findAll(\"a\")\n",
    "    url_list = []\n",
    "    for link in links :\n",
    "        print(link)\n",
    "        link_href = link.get('href')\n",
    "        if \"url?q=\" in link_href:# and not \"webcache\" in link_href:\n",
    "            print (link.get('href').split(\"?q=\")[1].split(\"&sa=U\")[0])\n",
    "            url_list.append(link.get('href').split(\"?q=\")[1].split(\"&sa=U\")[0])\n",
    "            \n",
    "    return url_list[:-1]\n"
   ]
  },
  {
   "cell_type": "markdown",
   "metadata": {},
   "source": []
  },
  {
   "cell_type": "code",
   "execution_count": 11,
   "metadata": {},
   "outputs": [],
   "source": [
    "from bs4 import BeautifulSoup\n",
    "\n",
    "headers_Get = {\n",
    "        'User-Agent': 'Mozilla/5.0 (Windows NT 6.1; WOW64; rv:49.0) Gecko/20100101 Firefox/49.0',\n",
    "        'Accept': 'text/html,application/xhtml+xml,application/xml;q=0.9,*/*;q=0.8',\n",
    "        'Accept-Language': 'en-US,en;q=0.5',\n",
    "        'Accept-Encoding': 'gzip, deflate',\n",
    "        'DNT': '1',\n",
    "        'Connection': 'keep-alive',\n",
    "        'Upgrade-Insecure-Requests': '1'\n",
    "    }\n",
    "\n",
    "\n",
    "def google(q):\n",
    "    s = requests.Session()\n",
    "    q = '+'.join(q.split())\n",
    "    url = 'https://www.google.com/search?q=' + q + '&ie=utf-8&oe=utf-8'\n",
    "    r = s.get(url, headers=headers_Get)\n",
    "\n",
    "    soup = BeautifulSoup(r.text, \"html.parser\")\n",
    "    output = []\n",
    "    for searchWrapper in soup.find_all('h3', {'class':'r'}): #this line may change in future based on google's web page structure\n",
    "        url = searchWrapper.find('a')[\"href\"] \n",
    "        text = searchWrapper.find('a').text.strip()\n",
    "        result = {'text': text, 'url': url}\n",
    "        output.append(result)\n",
    "\n",
    "    return output"
   ]
  },
  {
   "cell_type": "markdown",
   "metadata": {},
   "source": []
  },
  {
   "cell_type": "code",
   "execution_count": 23,
   "metadata": {},
   "outputs": [],
   "source": [
    "def googleSearch(query):\n",
    "    with requests.session() as c:\n",
    "        url = 'https://www.google.co.in'\n",
    "        query = {'q': query}\n",
    "        urllink = requests.get(url, params=query)\n",
    "        print(urllink.url)\n",
    "\n"
   ]
  },
  {
   "cell_type": "code",
   "execution_count": null,
   "metadata": {},
   "outputs": [],
   "source": []
  },
  {
   "cell_type": "code",
   "execution_count": null,
   "metadata": {},
   "outputs": [],
   "source": []
  },
  {
   "cell_type": "code",
   "execution_count": null,
   "metadata": {},
   "outputs": [],
   "source": []
  }
 ],
 "metadata": {
  "kernelspec": {
   "display_name": "Python 3",
   "language": "python",
   "name": "python3"
  },
  "language_info": {
   "codemirror_mode": {
    "name": "ipython",
    "version": 3
   },
   "file_extension": ".py",
   "mimetype": "text/x-python",
   "name": "python",
   "nbconvert_exporter": "python",
   "pygments_lexer": "ipython3",
   "version": "3.7.7"
  }
 },
 "nbformat": 4,
 "nbformat_minor": 4
}
