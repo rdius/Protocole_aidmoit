{
 "cells": [
  {
   "cell_type": "code",
   "execution_count": 1,
   "metadata": {},
   "outputs": [
    {
     "name": "stdout",
     "output_type": "stream",
     "text": [
      "The time recorded in the file is :  1617807459.9376736\n",
      "The time now  is :  1617808828.816348\n",
      "A total difference of 22.81464457511902 minutes\n",
      "It has been 15 minutes since the proxy renewal,                                 therefore now getting New Proxies\n",
      "Getting new live proxies\n",
      "Obtained proxied are as :  {'37.120.192.154:8080', '181.214.214.185:3129', '103.87.170.113:58248', '115.75.1.184:8118', '175.213.24.69:8080', '181.214.214.164:3129', '88.99.180.130:80', '88.99.180.131:80', '51.158.178.209:8888', '103.241.227.100:6666', '181.214.214.109:3129', '181.48.111.246:49094', '84.95.240.152:80', '167.179.113.45:3128', '143.110.228.155:3128', '111.92.164.242:50249', '77.68.125.33:80', '103.78.254.78:80', '149.125.38.124:8080', '90.83.154.85:8080'}\n",
      "Writing the new proxies to the 'proxies.txt' file\n",
      "proxy file timestamp updated\n"
     ]
    }
   ],
   "source": [
    "#from Protocole_complet import search_wiki_\n",
    "from ipynb.fs.full.Protocole_complet import search_wiki_\n",
    "from ipynb.fs.full.scrap_on_google import simple_scraper, advanced_scraper\n",
    "from ipynb.fs.full.similarity_measure import compute_best_terms, compute_best_doc\n",
    "from ipynb.fs.full.applyBiotex import biotex_terms_extractor"
   ]
  },
  {
   "cell_type": "markdown",
   "metadata": {},
   "source": [
    "# 1 - CHOIX DES TERMES EXPERTS"
   ]
  },
  {
   "cell_type": "markdown",
   "metadata": {},
   "source": [
    "### 1-1  Collecte de données sur wikipédia"
   ]
  },
  {
   "cell_type": "code",
   "execution_count": 8,
   "metadata": {},
   "outputs": [],
   "source": [
    "###########\n",
    "# scrap data from wiki, wikipedia corpus \n",
    "# define main thematic keywords, such as 'urbanisation', 'agriculture', 'hydrologie'\n",
    "###########\n",
    "keyword = 'agriculture'\n",
    "nbs = 15\n",
    "wiki_pages = {}\n",
    "#result_set = search_wiki_(keyword,nbs,wiki_pages)\n",
    "#result_set # doc "
   ]
  },
  {
   "cell_type": "code",
   "execution_count": 9,
   "metadata": {},
   "outputs": [],
   "source": [
    "#agriculture_wiki_corpus.txt"
   ]
  },
  {
   "cell_type": "markdown",
   "metadata": {},
   "source": [
    "### 1-2 Extraction des termes avec BioTex\n"
   ]
  },
  {
   "cell_type": "code",
   "execution_count": 4,
   "metadata": {},
   "outputs": [
    {
     "data": {
      "application/javascript": [
       "\n",
       "        if (window._pyforest_update_imports_cell) { window._pyforest_update_imports_cell('import os'); }\n",
       "    "
      ],
      "text/plain": [
       "<IPython.core.display.Javascript object>"
      ]
     },
     "metadata": {},
     "output_type": "display_data"
    }
   ],
   "source": [
    "###### \n",
    "# extract terms from wiki corpus (result_set) using BioTex\n",
    "# keyword_wiki_corpus.txt => specify that file as BioTex input in the properties conf file\n",
    "########\n",
    "\n",
    "w_corpus = os.getcwd() + '/' + str(keyword)+ '/' + str(keyword) + '_wiki_corpus.txt'\n",
    "#biotex_terms_extractor(w_corpus, 'french')"
   ]
  },
  {
   "cell_type": "markdown",
   "metadata": {},
   "source": [
    "### 1-3 Selection des termes experts par les experts de la thematique\n"
   ]
  },
  {
   "cell_type": "code",
   "execution_count": 5,
   "metadata": {},
   "outputs": [],
   "source": [
    "#########\n",
    "# manually select choose good terms for the thematic and save it into /expert_terms directory\n",
    "# You can use directely the experts terms we provided in ./expert_terms. \n",
    "# Make sure that you cleaned this folder when you need to specify your own data\n",
    "########"
   ]
  },
  {
   "cell_type": "code",
   "execution_count": null,
   "metadata": {},
   "outputs": [],
   "source": []
  },
  {
   "cell_type": "markdown",
   "metadata": {},
   "source": [
    "# 2 - Scrap Google data for thematic vocabulary concepts "
   ]
  },
  {
   "cell_type": "code",
   "execution_count": 6,
   "metadata": {},
   "outputs": [],
   "source": [
    "# directory to the keyword_file\n",
    "##########\n",
    "file = \"./expert_concept/agriculture.txt\"\n",
    "#g_corpus = simple_scraper('agriculture',file)"
   ]
  },
  {
   "cell_type": "markdown",
   "metadata": {},
   "source": [
    "### 2-1 Apply BioTex on Google thematic corpus "
   ]
  },
  {
   "cell_type": "code",
   "execution_count": 7,
   "metadata": {},
   "outputs": [
    {
     "data": {
      "application/javascript": [
       "\n",
       "        if (window._pyforest_update_imports_cell) { window._pyforest_update_imports_cell('import os'); }\n",
       "    "
      ],
      "text/plain": [
       "<IPython.core.display.Javascript object>"
      ]
     },
     "metadata": {},
     "output_type": "display_data"
    }
   ],
   "source": [
    "g_corpus = os.getcwd() + '/' + str(keyword)+ '/' + str(keyword) + '_google_corpus.txt'\n",
    "# biotex_out = biotex_terms_extractor(g_corpus, 'french')\n",
    "#biotex_terms_extractor(g_corpus, 'french')"
   ]
  },
  {
   "cell_type": "markdown",
   "metadata": {},
   "source": [
    "### 2-2 Apply Semantic measure on BioTex terms"
   ]
  },
  {
   "cell_type": "code",
   "execution_count": 8,
   "metadata": {},
   "outputs": [],
   "source": [
    "######## re-score BioTex terms according to their similarity with the experts terms ######\n",
    "##usage\n",
    "# biotex_out => chemin d'accès aux fichiers(mesure cvalue et tfidf) de sortie BioTex\n",
    "# expert_concept => indiquer aussi le chemin du fichier de termes experts de la thematic concernee\n",
    "# indiquer la taille ou nombre de termes à prendre en compte pour le calcul (valeur moyenne) de similarité -n_first-\n",
    "###########"
   ]
  },
  {
   "cell_type": "code",
   "execution_count": 3,
   "metadata": {},
   "outputs": [
    {
     "name": "stdout",
     "output_type": "stream",
     "text": [
      "['./biotex_out_/tf_agri.csv', './biotex_out_/cv_agri.csv']\n",
      "127071\n",
      "127087\n",
      "final-len 127124\n"
     ]
    }
   ],
   "source": [
    "biotex_out = \"./biotex_out_\" #/home/rodrique/Bureau/Jupyter-notebook/Protocole_3M/Protocole_aidmoit\n",
    "expert_concept = './expert_concept/agriculture.txt' #/home/rodrique/Bureau/Jupyter-notebook/Protocole_3M/Protocole_aidmoit\n",
    "n_first = 10\n",
    "data = compute_best_terms(biotex_out, expert_concept, n_first) # data is in dic format "
   ]
  },
  {
   "cell_type": "code",
   "execution_count": null,
   "metadata": {},
   "outputs": [],
   "source": [
    "# montpellier\n",
    "# urban\n",
    "# textile"
   ]
  },
  {
   "cell_type": "code",
   "execution_count": null,
   "metadata": {},
   "outputs": [],
   "source": [
    "# urbanisation\n",
    "# agriculture"
   ]
  },
  {
   "cell_type": "code",
   "execution_count": null,
   "metadata": {},
   "outputs": [],
   "source": [
    "# montpellier : {urbanisation:.5,agriculture:.8, a:.1, b:.3, c: .9, ...., n}\n",
    "# montpellier :  (.9 + .8) /2  \n",
    "\n",
    "# urban :\n",
    "# textile"
   ]
  },
  {
   "cell_type": "code",
   "execution_count": null,
   "metadata": {},
   "outputs": [],
   "source": [
    "# montpellier : .5\n",
    "# urban : .4\n",
    "# textile : .8"
   ]
  },
  {
   "cell_type": "code",
   "execution_count": null,
   "metadata": {},
   "outputs": [],
   "source": [
    "# montpellier : .5\n",
    "# textile : .8"
   ]
  },
  {
   "cell_type": "markdown",
   "metadata": {},
   "source": [
    "# 3 - Final step to build thematic corpora"
   ]
  },
  {
   "cell_type": "markdown",
   "metadata": {},
   "source": [
    "Build final thematic corpora by specifying an Spatial extent, and the thematic vocabulary concepts file"
   ]
  },
  {
   "cell_type": "code",
   "execution_count": 2,
   "metadata": {
    "collapsed": true
   },
   "outputs": [
    {
     "name": "stderr",
     "output_type": "stream",
     "text": [
      "Lecture de keywords.txt ... \n",
      "\n",
      "Début de la recherche de document concernant la ville de Montpellier\n",
      "Génération des requêtes\n",
      "Nouvelle requête : \"Montpellier\" AND exploitation?agricole\n",
      "\n",
      "URL : https://www.maformation.fr/diplomes/bp/intitule_bp-responsable-exploitation-agricole_ville_montpellier-34000.html\n",
      "\n",
      "Document sauvegardé.\n",
      "Document web converti en texte brut.\n",
      "Texte nettoyé.\n",
      "\n",
      "Document inséré dans l'inventaire.\n",
      "\n",
      "INFO:collecteDeDonnees_07-04-21:Document inséré dans l'inventaire.\n",
      "\n",
      "URL : https://labonneformation.pole-emploi.fr/toutes-les-formations?organisme=4229\n",
      "\n",
      "INFO:collecteDeDonnees_07-04-21:URL : https://labonneformation.pole-emploi.fr/toutes-les-formations?organisme=4229\n",
      "\n",
      "Document sauvegardé.\n",
      "INFO:collecteDeDonnees_07-04-21:Document sauvegardé.\n",
      "Document web converti en texte brut.\n",
      "INFO:collecteDeDonnees_07-04-21:Document web converti en texte brut.\n",
      "Texte nettoyé.\n",
      "\n",
      "INFO:collecteDeDonnees_07-04-21:Texte nettoyé.\n",
      "\n",
      "Document inséré dans l'inventaire.\n",
      "\n",
      "INFO:collecteDeDonnees_07-04-21:Document inséré dans l'inventaire.\n",
      "\n",
      "URL : https://fr.jooble.org/emploi-saisonnier-agricole/Montpellier\n",
      "\n",
      "INFO:collecteDeDonnees_07-04-21:URL : https://fr.jooble.org/emploi-saisonnier-agricole/Montpellier\n",
      "\n",
      "Document sauvegardé.\n",
      "INFO:collecteDeDonnees_07-04-21:Document sauvegardé.\n",
      "Document web converti en texte brut.\n",
      "INFO:collecteDeDonnees_07-04-21:Document web converti en texte brut.\n",
      "Texte nettoyé.\n",
      "\n",
      "INFO:collecteDeDonnees_07-04-21:Texte nettoyé.\n",
      "\n",
      "Document inséré dans l'inventaire.\n",
      "\n",
      "INFO:collecteDeDonnees_07-04-21:Document inséré dans l'inventaire.\n",
      "\n",
      "URL : https://www.pagesjaunes.fr/annuaire/montpellier-34/ferme-agricole\n",
      "\n",
      "INFO:collecteDeDonnees_07-04-21:URL : https://www.pagesjaunes.fr/annuaire/montpellier-34/ferme-agricole\n",
      "\n",
      "Document sauvegardé.\n",
      "INFO:collecteDeDonnees_07-04-21:Document sauvegardé.\n",
      "Document web converti en texte brut.\n",
      "INFO:collecteDeDonnees_07-04-21:Document web converti en texte brut.\n",
      "Texte nettoyé.\n",
      "\n",
      "INFO:collecteDeDonnees_07-04-21:Texte nettoyé.\n",
      "\n",
      "Document inséré dans l'inventaire.\n",
      "\n",
      "INFO:collecteDeDonnees_07-04-21:Document inséré dans l'inventaire.\n",
      "\n",
      "URL : https://www.educagri.fr/les-etablissements-publics/detail-dun-etablissement.html?num=1392\n",
      "\n",
      "INFO:collecteDeDonnees_07-04-21:URL : https://www.educagri.fr/les-etablissements-publics/detail-dun-etablissement.html?num=1392\n",
      "\n",
      "Document sauvegardé.\n",
      "INFO:collecteDeDonnees_07-04-21:Document sauvegardé.\n",
      "Document web converti en texte brut.\n",
      "INFO:collecteDeDonnees_07-04-21:Document web converti en texte brut.\n",
      "Texte nettoyé.\n",
      "\n",
      "INFO:collecteDeDonnees_07-04-21:Texte nettoyé.\n",
      "\n",
      "Document inséré dans l'inventaire.\n",
      "\n",
      "INFO:collecteDeDonnees_07-04-21:Document inséré dans l'inventaire.\n",
      "\n",
      "URL : https://www.cessionpme.com/annonces,fonds-de-commerce-entreprise-agriculture-viticulture-languedoc-roussillon-herault-exploitation-agricole-wz-montpellier,28,1,0,22,74,exploitation+agricole+wz+montpellier,offres.html\n",
      "\n",
      "INFO:collecteDeDonnees_07-04-21:URL : https://www.cessionpme.com/annonces,fonds-de-commerce-entreprise-agriculture-viticulture-languedoc-roussillon-herault-exploitation-agricole-wz-montpellier,28,1,0,22,74,exploitation+agricole+wz+montpellier,offres.html\n",
      "\n",
      "Document sauvegardé.\n",
      "INFO:collecteDeDonnees_07-04-21:Document sauvegardé.\n",
      "Document web converti en texte brut.\n",
      "INFO:collecteDeDonnees_07-04-21:Document web converti en texte brut.\n",
      "Texte nettoyé.\n",
      "\n",
      "INFO:collecteDeDonnees_07-04-21:Texte nettoyé.\n",
      "\n",
      "Document inséré dans l'inventaire.\n",
      "\n",
      "INFO:collecteDeDonnees_07-04-21:Document inséré dans l'inventaire.\n",
      "\n",
      "URL : https://fr.jobted.com/emploi-exploitation-agricole-%C3%A0-montpellier-(34)\n",
      "\n",
      "INFO:collecteDeDonnees_07-04-21:URL : https://fr.jobted.com/emploi-exploitation-agricole-%C3%A0-montpellier-(34)\n",
      "\n",
      "Document sauvegardé.\n",
      "INFO:collecteDeDonnees_07-04-21:Document sauvegardé.\n",
      "Document web converti en texte brut.\n",
      "INFO:collecteDeDonnees_07-04-21:Document web converti en texte brut.\n",
      "Texte nettoyé.\n",
      "\n",
      "INFO:collecteDeDonnees_07-04-21:Texte nettoyé.\n",
      "\n",
      "Document inséré dans l'inventaire.\n",
      "\n",
      "INFO:collecteDeDonnees_07-04-21:Document inséré dans l'inventaire.\n",
      "\n",
      "URL : https://www.terracoopa.net/agriculteurs-entrepreneurs/les-agriculteurs-bio/\n",
      "\n",
      "INFO:collecteDeDonnees_07-04-21:URL : https://www.terracoopa.net/agriculteurs-entrepreneurs/les-agriculteurs-bio/\n",
      "\n",
      "Document sauvegardé.\n",
      "INFO:collecteDeDonnees_07-04-21:Document sauvegardé.\n",
      "Document web converti en texte brut.\n",
      "INFO:collecteDeDonnees_07-04-21:Document web converti en texte brut.\n",
      "Texte nettoyé.\n",
      "\n",
      "INFO:collecteDeDonnees_07-04-21:Texte nettoyé.\n",
      "\n",
      "Document inséré dans l'inventaire.\n",
      "\n",
      "INFO:collecteDeDonnees_07-04-21:Document inséré dans l'inventaire.\n",
      "\n",
      "URL : https://herault.chambre-agriculture.fr/fileadmin/user_upload/National/FAL_commun/publications/Occitanie/Productions_techniques/Agriculture-en-bref_34_crao2017.pdf\n",
      "\n",
      "INFO:collecteDeDonnees_07-04-21:URL : https://herault.chambre-agriculture.fr/fileadmin/user_upload/National/FAL_commun/publications/Occitanie/Productions_techniques/Agriculture-en-bref_34_crao2017.pdf\n",
      "\n",
      "Document sauvegardé.\n",
      "INFO:collecteDeDonnees_07-04-21:Document sauvegardé.\n",
      "Document PDF converti en texte brut.\n",
      "INFO:collecteDeDonnees_07-04-21:Document PDF converti en texte brut.\n",
      "PdfReadWarning: Xref table not zero-indexed. ID numbers for objects will be corrected. [pdf.py:1736]\n",
      "Texte nettoyé.\n",
      "\n",
      "INFO:collecteDeDonnees_07-04-21:Texte nettoyé.\n",
      "\n",
      "Document inséré dans l'inventaire.\n",
      "\n",
      "INFO:collecteDeDonnees_07-04-21:Document inséré dans l'inventaire.\n",
      "\n",
      "URL : https://www.pagesjaunes.fr/annuaire/montpellier-34/exploitation-agricole\n",
      "\n",
      "INFO:collecteDeDonnees_07-04-21:URL : https://www.pagesjaunes.fr/annuaire/montpellier-34/exploitation-agricole\n",
      "\n",
      "Le document existe déjà.\n",
      "\n",
      "INFO:collecteDeDonnees_07-04-21:Le document existe déjà.\n",
      "\n",
      "***********************************************************************\n",
      "\n",
      "INFO:collecteDeDonnees_07-04-21:***********************************************************************\n",
      "\n",
      "07-04-2021:11h16 : Nombre limite de requete atteint. Reprise du programme : 07-04-2021:11h16\n",
      "INFO:collecteDeDonnees_07-04-21:07-04-2021:11h16 : Nombre limite de requete atteint. Reprise du programme : 07-04-2021:11h16\n"
     ]
    }
   ],
   "source": [
    "# spatial_extent = '' # name of the corrsponding territory\n",
    "# extend_voc_concept = '' # extended vocabulary concept file\n",
    "# mgdb,mgcol = '','' db and collection name\n",
    "#########\n",
    "spatial_extent = 'montpellier'\n",
    "voc_concept = './voc_concept/agriculture.txt'\n",
    "mgdb,mgcol = 'inventaire_medo', 'agriculture_git'\n",
    "#advanced_scraper(spatial_extent,voc_concept)\n",
    "advanced_scraper(spatial_extent,voc_concept,mgdb,mgcol)"
   ]
  },
  {
   "cell_type": "markdown",
   "metadata": {},
   "source": [
    "# 4 - Retrieve corpora from mongodb, "
   ]
  },
  {
   "cell_type": "code",
   "execution_count": null,
   "metadata": {},
   "outputs": [],
   "source": [
    "# you can export your mongodb collection data for ES indexing step\n",
    "import pymongo\n",
    "\n",
    "myclient = pymongo.MongoClient(\"mongodb://localhost:27017/\")\n",
    "mydb = myclient[\"db_name\"]\n",
    "mycol = mydb[\"collectin_name\"]\n",
    "\n",
    "mydoc = mycol.find() # to retriev all data"
   ]
  }
 ],
 "metadata": {
  "kernelspec": {
   "display_name": "Python 3",
   "language": "python",
   "name": "python3"
  },
  "language_info": {
   "codemirror_mode": {
    "name": "ipython",
    "version": 3
   },
   "file_extension": ".py",
   "mimetype": "text/x-python",
   "name": "python",
   "nbconvert_exporter": "python",
   "pygments_lexer": "ipython3",
   "version": "3.7.7"
  }
 },
 "nbformat": 4,
 "nbformat_minor": 4
}
