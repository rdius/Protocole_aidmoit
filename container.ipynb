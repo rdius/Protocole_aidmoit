{
 "cells": [
  {
   "cell_type": "code",
   "execution_count": 2,
   "metadata": {},
   "outputs": [],
   "source": [
    "#from Protocole_complet import search_wiki_\n",
    "from ipynb.fs.full.Protocole_complet import search_wiki_\n",
    "from ipynb.fs.full.scrap_on_google import simple_scraper, advanced_scraper\n",
    "from ipynb.fs.full.similarity_measure import compute_best_terms, compute_best_doc\n",
    "from ipynb.fs.full.applyBiotex import biotex_terms_extractor"
   ]
  },
  {
   "cell_type": "markdown",
   "metadata": {},
   "source": [
    "# 1 - CHOIX DES TERMES EXPERTS"
   ]
  },
  {
   "cell_type": "markdown",
   "metadata": {},
   "source": [
    "### 1-1  Collecte de données sur wikipédia"
   ]
  },
  {
   "cell_type": "code",
   "execution_count": 9,
   "metadata": {},
   "outputs": [],
   "source": [
    "###########\n",
    "# scrap data from wiki, wikipedia corpus \n",
    "# define main thematic keywords, such as 'urbanisation', 'agriculture', 'hydrologie'\n",
    "###########\n",
    "keyword = 'agriculture'\n",
    "nbs = 15\n",
    "wiki_pages ={}\n",
    "#result_set = search_wiki_(hydro_keyword,nbs,wiki_pages)\n",
    "#result_set"
   ]
  },
  {
   "cell_type": "markdown",
   "metadata": {},
   "source": [
    "### 1-2 Extraction des termes avec BioTex\n"
   ]
  },
  {
   "cell_type": "code",
   "execution_count": 10,
   "metadata": {},
   "outputs": [
    {
     "data": {
      "application/javascript": [
       "\n",
       "        if (window._pyforest_update_imports_cell) { window._pyforest_update_imports_cell('import os'); }\n",
       "    "
      ],
      "text/plain": [
       "<IPython.core.display.Javascript object>"
      ]
     },
     "metadata": {},
     "output_type": "display_data"
    },
    {
     "name": "stdout",
     "output_type": "stream",
     "text": [
      "Done in 5.052822589874268 sec\n",
      "Done in 6.123887300491333 sec\n"
     ]
    }
   ],
   "source": [
    "###### \n",
    "# extract terms from wiki corpus (result_set) using BioTex\n",
    "# keyword_wiki_corpus.txt => specify that file as BioTex input in the properties conf file\n",
    "########\n",
    "\n",
    "w_corpus = os.getcwd() + '/' + str(keyword)+ '/' + str(keyword) + '_wiki_corpus.txt'\n",
    "biotex_terms_extractor(w_corpus, 'french')"
   ]
  },
  {
   "cell_type": "markdown",
   "metadata": {},
   "source": [
    "### 1-3 Selection des termes experts par les experts de la thematique\n"
   ]
  },
  {
   "cell_type": "code",
   "execution_count": 6,
   "metadata": {},
   "outputs": [],
   "source": [
    "#########\n",
    "# manually select choose good terms for the thematic and save it into /expert_terms directory\n",
    "# You can use directely the experts terms we provided in ./expert_terms. \n",
    "# Make sure that you cleaned this folder when you need to specify your own data\n",
    "########"
   ]
  },
  {
   "cell_type": "code",
   "execution_count": null,
   "metadata": {},
   "outputs": [],
   "source": []
  },
  {
   "cell_type": "markdown",
   "metadata": {},
   "source": [
    "# 2 - Scrap Google data for thematic vocabulary concepts "
   ]
  },
  {
   "cell_type": "code",
   "execution_count": 11,
   "metadata": {},
   "outputs": [
    {
     "ename": "FileNotFoundError",
     "evalue": "[Errno 2] No such file or directory: './expert_terms/agriculture.txt'",
     "output_type": "error",
     "traceback": [
      "\u001b[0;31m---------------------------------------------------------------------------\u001b[0m",
      "\u001b[0;31mFileNotFoundError\u001b[0m                         Traceback (most recent call last)",
      "\u001b[0;32m<ipython-input-11-439c00e89dcd>\u001b[0m in \u001b[0;36m<module>\u001b[0;34m\u001b[0m\n\u001b[1;32m      2\u001b[0m \u001b[0;31m##########\u001b[0m\u001b[0;34m\u001b[0m\u001b[0;34m\u001b[0m\u001b[0;34m\u001b[0m\u001b[0m\n\u001b[1;32m      3\u001b[0m \u001b[0mfile\u001b[0m \u001b[0;34m=\u001b[0m \u001b[0;34m\"./expert_terms/agriculture.txt\"\u001b[0m\u001b[0;34m\u001b[0m\u001b[0;34m\u001b[0m\u001b[0m\n\u001b[0;32m----> 4\u001b[0;31m \u001b[0mg_corpus\u001b[0m \u001b[0;34m=\u001b[0m \u001b[0msimple_scraper\u001b[0m\u001b[0;34m(\u001b[0m\u001b[0;34m'agriculture'\u001b[0m\u001b[0;34m,\u001b[0m\u001b[0mfile\u001b[0m\u001b[0;34m)\u001b[0m\u001b[0;34m\u001b[0m\u001b[0;34m\u001b[0m\u001b[0m\n\u001b[0m",
      "\u001b[0;32m~/Bureau/Jupyter-notebook/Protocole_3M/scrap_on_google.ipynb\u001b[0m in \u001b[0;36msimple_scraper\u001b[0;34m(thematic_keyword, keyword_file, site)\u001b[0m\n\u001b[1;32m    877\u001b[0m     \u001b[0;34m\"        response = search(requete, lang='fr', stop=10) # stop=10\\n\"\u001b[0m\u001b[0;34m,\u001b[0m\u001b[0;34m\u001b[0m\u001b[0;34m\u001b[0m\u001b[0m\n\u001b[1;32m    878\u001b[0m     \u001b[0;34m\"        #response = run_requete(requete)  # top@10 first pages\\n\"\u001b[0m\u001b[0;34m,\u001b[0m\u001b[0;34m\u001b[0m\u001b[0;34m\u001b[0m\u001b[0m\n\u001b[0;32m--> 879\u001b[0;31m     \u001b[0;34m\"        # response = bing_search.search(requete)  # stop=10\\n\"\u001b[0m\u001b[0;34m,\u001b[0m\u001b[0;34m\u001b[0m\u001b[0;34m\u001b[0m\u001b[0m\n\u001b[0m\u001b[1;32m    880\u001b[0m     \u001b[0;34m\"        try:\\n\"\u001b[0m\u001b[0;34m,\u001b[0m\u001b[0;34m\u001b[0m\u001b[0;34m\u001b[0m\u001b[0m\n\u001b[1;32m    881\u001b[0m     \u001b[0;34m\"            #liste_url = list(response)\\n\"\u001b[0m\u001b[0;34m,\u001b[0m\u001b[0;34m\u001b[0m\u001b[0;34m\u001b[0m\u001b[0m\n",
      "\u001b[0;32m~/Bureau/Jupyter-notebook/Protocole_3M/scrap_on_google.ipynb\u001b[0m in \u001b[0;36mcreation_dossier_resultat\u001b[0;34m(chemin_resultats, ville, log, keyword_file)\u001b[0m\n\u001b[1;32m    278\u001b[0m    \u001b[0;34m\"outputs\"\u001b[0m\u001b[0;34m:\u001b[0m \u001b[0;34m[\u001b[0m\u001b[0;34m]\u001b[0m\u001b[0;34m,\u001b[0m\u001b[0;34m\u001b[0m\u001b[0;34m\u001b[0m\u001b[0m\n\u001b[1;32m    279\u001b[0m    \"source\": [\n\u001b[0;32m--> 280\u001b[0;31m     \u001b[0;34m\"# cette fonction ne prend que la date de publis\\n\"\u001b[0m\u001b[0;34m,\u001b[0m\u001b[0;34m\u001b[0m\u001b[0;34m\u001b[0m\u001b[0m\n\u001b[0m\u001b[1;32m    281\u001b[0m     \u001b[0;34m\"#à adapter pour prendre en compte l'extraction auto d'entitées nommées temporelles dans les titres\\n\"\u001b[0m\u001b[0;34m,\u001b[0m\u001b[0;34m\u001b[0m\u001b[0;34m\u001b[0m\u001b[0m\n\u001b[1;32m    282\u001b[0m     \u001b[0;34m\"def TNE_extract(mtd): #ajouter title_mtd pour la prise en compte des ENT presentent dans le titles\\n\"\u001b[0m\u001b[0;34m,\u001b[0m\u001b[0;34m\u001b[0m\u001b[0;34m\u001b[0m\u001b[0m\n",
      "\u001b[0;31mFileNotFoundError\u001b[0m: [Errno 2] No such file or directory: './expert_terms/agriculture.txt'"
     ]
    }
   ],
   "source": [
    "# directory to the keyword_file\n",
    "##########\n",
    "file = \"./expert_terms/agriculture.txt\"\n",
    "g_corpus = simple_scraper('agriculture',file)"
   ]
  },
  {
   "cell_type": "markdown",
   "metadata": {},
   "source": [
    "### 2-1 Apply BioTex on Google thematic corpus "
   ]
  },
  {
   "cell_type": "code",
   "execution_count": 15,
   "metadata": {},
   "outputs": [],
   "source": [
    "g_corpus = os.getcwd() + '/' + str(keyword)+ '/' + str(keyword) + '_google_corpus.txt'\n",
    "biotex_terms_extractor(g_corpus, 'french')"
   ]
  },
  {
   "cell_type": "markdown",
   "metadata": {},
   "source": [
    "### 2-2 Apply Semantic measure on BioTex terms"
   ]
  },
  {
   "cell_type": "code",
   "execution_count": null,
   "metadata": {},
   "outputs": [],
   "source": [
    "######## re-score BioTex terms according to their similarity with the experts terms ######\n",
    "##usage\n",
    "# biotex_out => chemin d'accès aux fichiers(mesure cvalue et tfidf) de sortie BioTex\n",
    "# expert_concept => indiquer aussi le chemin du fichier de termes experts de la thematic concernee\n",
    "# indiquer la taille ou nombre de termes à prendre en compte pour le calcul (valeur moyenne) de similarité -n_first-\n",
    "###########"
   ]
  },
  {
   "cell_type": "code",
   "execution_count": null,
   "metadata": {},
   "outputs": [],
   "source": [
    "biotex_out = \"/biotext_out\"\n",
    "expert_concept = '/expert_terms/agriculture.txt'\n",
    "n_first = 10\n",
    "data = compute_best_terms(biotex_out, expert_concept, n_first)"
   ]
  },
  {
   "cell_type": "markdown",
   "metadata": {},
   "source": [
    "# 3 - Final step to build thematic corpora"
   ]
  },
  {
   "cell_type": "markdown",
   "metadata": {},
   "source": [
    "Build final thematic corpora by specifying an Spatial extent, and the thematic vocabulary concepts file"
   ]
  },
  {
   "cell_type": "code",
   "execution_count": 4,
   "metadata": {
    "collapsed": true
   },
   "outputs": [
    {
     "name": "stderr",
     "output_type": "stream",
     "text": [
      "Lecture de keywords.txt ... \n",
      "\n",
      "Lecture de keywords.txt ... \n",
      "\n",
      "INFO:collecteDeDonnees_05-04-21:Lecture de keywords.txt ... \n",
      "\n",
      "Début de la recherche de document concernant la ville de Montpellier\n",
      "Début de la recherche de document concernant la ville de Montpellier\n",
      "INFO:collecteDeDonnees_05-04-21:Début de la recherche de document concernant la ville de Montpellier\n",
      "Génération des requêtes\n",
      "Génération des requêtes\n",
      "INFO:collecteDeDonnees_05-04-21:Génération des requêtes\n",
      "Nouvelle requête : \"Montpellier\" AND evolution?de?l'agriculture\n",
      "\n",
      "Nouvelle requête : \"Montpellier\" AND evolution?de?l'agriculture\n",
      "\n",
      "INFO:collecteDeDonnees_05-04-21:Nouvelle requête : \"Montpellier\" AND evolution?de?l'agriculture\n",
      "\n",
      "URL : https://www.laregion.fr/Agriculture-Viticulture-Alimentation\n",
      "\n",
      "URL : https://www.laregion.fr/Agriculture-Viticulture-Alimentation\n",
      "\n",
      "INFO:collecteDeDonnees_05-04-21:URL : https://www.laregion.fr/Agriculture-Viticulture-Alimentation\n",
      "\n",
      "Document sauvegardé.\n",
      "Document sauvegardé.\n",
      "INFO:collecteDeDonnees_05-04-21:Document sauvegardé.\n",
      "Document web converti en texte brut.\n",
      "Document web converti en texte brut.\n",
      "INFO:collecteDeDonnees_05-04-21:Document web converti en texte brut.\n",
      "Texte nettoyé.\n",
      "\n",
      "Texte nettoyé.\n",
      "\n",
      "INFO:collecteDeDonnees_05-04-21:Texte nettoyé.\n",
      "\n",
      "Document inséré dans l'inventaire.\n",
      "\n",
      "Document inséré dans l'inventaire.\n",
      "\n",
      "INFO:collecteDeDonnees_05-04-21:Document inséré dans l'inventaire.\n",
      "\n",
      "URL : https://tel.archives-ouvertes.fr/tel-00924637/document\n",
      "\n",
      "URL : https://tel.archives-ouvertes.fr/tel-00924637/document\n",
      "\n",
      "INFO:collecteDeDonnees_05-04-21:URL : https://tel.archives-ouvertes.fr/tel-00924637/document\n",
      "\n",
      "Document sauvegardé.\n",
      "Document sauvegardé.\n",
      "INFO:collecteDeDonnees_05-04-21:Document sauvegardé.\n",
      "Document PDF converti en texte brut.\n",
      "Document PDF converti en texte brut.\n",
      "INFO:collecteDeDonnees_05-04-21:Document PDF converti en texte brut.\n",
      "Texte nettoyé.\n",
      "\n",
      "Texte nettoyé.\n",
      "\n",
      "INFO:collecteDeDonnees_05-04-21:Texte nettoyé.\n",
      "\n",
      "Erreur pour l'URL : https://tel.archives-ouvertes.fr/tel-00924637/document\n",
      "\n",
      "Erreur pour l'URL : https://tel.archives-ouvertes.fr/tel-00924637/document\n",
      "\n",
      "INFO:collecteDeDonnees_05-04-21:Erreur pour l'URL : https://tel.archives-ouvertes.fr/tel-00924637/document\n",
      "\n",
      "URL : https://www.umontpellier.fr/articles/montpellier-pepiniere-de-lagriculture-de-demain\n",
      "\n",
      "URL : https://www.umontpellier.fr/articles/montpellier-pepiniere-de-lagriculture-de-demain\n",
      "\n",
      "INFO:collecteDeDonnees_05-04-21:URL : https://www.umontpellier.fr/articles/montpellier-pepiniere-de-lagriculture-de-demain\n",
      "\n"
     ]
    },
    {
     "name": "stdout",
     "output_type": "stream",
     "text": [
      "\n"
     ]
    },
    {
     "name": "stderr",
     "output_type": "stream",
     "text": [
      "Document sauvegardé.\n",
      "Document sauvegardé.\n",
      "INFO:collecteDeDonnees_05-04-21:Document sauvegardé.\n",
      "Document web converti en texte brut.\n",
      "Document web converti en texte brut.\n",
      "INFO:collecteDeDonnees_05-04-21:Document web converti en texte brut.\n",
      "Texte nettoyé.\n",
      "\n",
      "Texte nettoyé.\n",
      "\n",
      "INFO:collecteDeDonnees_05-04-21:Texte nettoyé.\n",
      "\n",
      "Document inséré dans l'inventaire.\n",
      "\n",
      "Document inséré dans l'inventaire.\n",
      "\n",
      "INFO:collecteDeDonnees_05-04-21:Document inséré dans l'inventaire.\n",
      "\n",
      "URL : https://herault.chambre-agriculture.fr/fileadmin/user_upload/National/FAL_commun/publications/Occitanie/Productions_techniques/Agriculture-en-bref_34_crao2017.pdf\n",
      "\n",
      "URL : https://herault.chambre-agriculture.fr/fileadmin/user_upload/National/FAL_commun/publications/Occitanie/Productions_techniques/Agriculture-en-bref_34_crao2017.pdf\n",
      "\n",
      "INFO:collecteDeDonnees_05-04-21:URL : https://herault.chambre-agriculture.fr/fileadmin/user_upload/National/FAL_commun/publications/Occitanie/Productions_techniques/Agriculture-en-bref_34_crao2017.pdf\n",
      "\n",
      "Document sauvegardé.\n",
      "Document sauvegardé.\n",
      "INFO:collecteDeDonnees_05-04-21:Document sauvegardé.\n",
      "Document PDF converti en texte brut.\n",
      "Document PDF converti en texte brut.\n",
      "INFO:collecteDeDonnees_05-04-21:Document PDF converti en texte brut.\n",
      "PdfReadWarning: Xref table not zero-indexed. ID numbers for objects will be corrected. [pdf.py:1736]\n",
      "Texte nettoyé.\n",
      "\n",
      "Texte nettoyé.\n",
      "\n",
      "INFO:collecteDeDonnees_05-04-21:Texte nettoyé.\n",
      "\n",
      "Document inséré dans l'inventaire.\n",
      "\n",
      "Document inséré dans l'inventaire.\n",
      "\n",
      "INFO:collecteDeDonnees_05-04-21:Document inséré dans l'inventaire.\n",
      "\n",
      "URL : http://www.occitanie.developpement-durable.gouv.fr/IMG/pdf/Observatoire_des_espaces_agricoles_et_forestiers-dep-herault-plaine_de_montpellier_et_lunel__cle776816.pdf\n",
      "\n",
      "URL : http://www.occitanie.developpement-durable.gouv.fr/IMG/pdf/Observatoire_des_espaces_agricoles_et_forestiers-dep-herault-plaine_de_montpellier_et_lunel__cle776816.pdf\n",
      "\n",
      "INFO:collecteDeDonnees_05-04-21:URL : http://www.occitanie.developpement-durable.gouv.fr/IMG/pdf/Observatoire_des_espaces_agricoles_et_forestiers-dep-herault-plaine_de_montpellier_et_lunel__cle776816.pdf\n",
      "\n",
      "Le document existe déjà.\n",
      "\n",
      "Le document existe déjà.\n",
      "\n",
      "INFO:collecteDeDonnees_05-04-21:Le document existe déjà.\n",
      "\n",
      "URL : https://www.cairn.info/revue-espaces-et-societes-2014-3-page-49.htm\n",
      "\n",
      "URL : https://www.cairn.info/revue-espaces-et-societes-2014-3-page-49.htm\n",
      "\n",
      "INFO:collecteDeDonnees_05-04-21:URL : https://www.cairn.info/revue-espaces-et-societes-2014-3-page-49.htm\n",
      "\n",
      "Erreur pour l'URL : https://www.cairn.info/revue-espaces-et-societes-2014-3-page-49.htm\n",
      "\n",
      "Erreur pour l'URL : https://www.cairn.info/revue-espaces-et-societes-2014-3-page-49.htm\n",
      "\n",
      "INFO:collecteDeDonnees_05-04-21:Erreur pour l'URL : https://www.cairn.info/revue-espaces-et-societes-2014-3-page-49.htm\n",
      "\n",
      "URL : http://www.numdam.org/article/JSFS_1944__85__56_0.pdf\n",
      "\n",
      "URL : http://www.numdam.org/article/JSFS_1944__85__56_0.pdf\n",
      "\n",
      "INFO:collecteDeDonnees_05-04-21:URL : http://www.numdam.org/article/JSFS_1944__85__56_0.pdf\n",
      "\n"
     ]
    },
    {
     "name": "stdout",
     "output_type": "stream",
     "text": [
      "HTTP Error 403: Forbidden\n"
     ]
    },
    {
     "name": "stderr",
     "output_type": "stream",
     "text": [
      "Document sauvegardé.\n",
      "Document sauvegardé.\n",
      "INFO:collecteDeDonnees_05-04-21:Document sauvegardé.\n",
      "Document PDF converti en texte brut.\n",
      "Document PDF converti en texte brut.\n",
      "INFO:collecteDeDonnees_05-04-21:Document PDF converti en texte brut.\n",
      "Texte nettoyé.\n",
      "\n",
      "Texte nettoyé.\n",
      "\n",
      "INFO:collecteDeDonnees_05-04-21:Texte nettoyé.\n",
      "\n",
      "Document inséré dans l'inventaire.\n",
      "\n",
      "Document inséré dans l'inventaire.\n",
      "\n",
      "INFO:collecteDeDonnees_05-04-21:Document inséré dans l'inventaire.\n",
      "\n",
      "URL : https://www.herault.gouv.fr/content/download/9877/54982/file/8_DGEAF_PlaineMontpellieraineEtLunelloise.pdf\n",
      "\n",
      "URL : https://www.herault.gouv.fr/content/download/9877/54982/file/8_DGEAF_PlaineMontpellieraineEtLunelloise.pdf\n",
      "\n",
      "INFO:collecteDeDonnees_05-04-21:URL : https://www.herault.gouv.fr/content/download/9877/54982/file/8_DGEAF_PlaineMontpellieraineEtLunelloise.pdf\n",
      "\n",
      "Le document existe déjà.\n",
      "\n",
      "Le document existe déjà.\n",
      "\n",
      "INFO:collecteDeDonnees_05-04-21:Le document existe déjà.\n",
      "\n",
      "URL : https://ecolotheque.montpellier3m.fr/sites/ecolotheque/files/Agriculture%2C%20pratique%20en%20constante%20%C3%A9volution.pdf\n",
      "\n",
      "URL : https://ecolotheque.montpellier3m.fr/sites/ecolotheque/files/Agriculture%2C%20pratique%20en%20constante%20%C3%A9volution.pdf\n",
      "\n",
      "INFO:collecteDeDonnees_05-04-21:URL : https://ecolotheque.montpellier3m.fr/sites/ecolotheque/files/Agriculture%2C%20pratique%20en%20constante%20%C3%A9volution.pdf\n",
      "\n",
      "Document sauvegardé.\n",
      "Document sauvegardé.\n",
      "INFO:collecteDeDonnees_05-04-21:Document sauvegardé.\n",
      "Document PDF converti en texte brut.\n",
      "Document PDF converti en texte brut.\n",
      "INFO:collecteDeDonnees_05-04-21:Document PDF converti en texte brut.\n",
      "Texte nettoyé.\n",
      "\n",
      "Texte nettoyé.\n",
      "\n",
      "INFO:collecteDeDonnees_05-04-21:Texte nettoyé.\n",
      "\n",
      "Document inséré dans l'inventaire.\n",
      "\n",
      "Document inséré dans l'inventaire.\n",
      "\n",
      "INFO:collecteDeDonnees_05-04-21:Document inséré dans l'inventaire.\n",
      "\n",
      "URL : http://www1.montpellier.inra.fr/PSDR/doc/Diagnostic-PSDR-LR.pdf\n",
      "\n",
      "URL : http://www1.montpellier.inra.fr/PSDR/doc/Diagnostic-PSDR-LR.pdf\n",
      "\n",
      "INFO:collecteDeDonnees_05-04-21:URL : http://www1.montpellier.inra.fr/PSDR/doc/Diagnostic-PSDR-LR.pdf\n",
      "\n",
      "Document sauvegardé.\n",
      "Document sauvegardé.\n",
      "INFO:collecteDeDonnees_05-04-21:Document sauvegardé.\n",
      "Document PDF converti en texte brut.\n",
      "Document PDF converti en texte brut.\n",
      "INFO:collecteDeDonnees_05-04-21:Document PDF converti en texte brut.\n",
      "Texte nettoyé.\n",
      "\n",
      "Texte nettoyé.\n",
      "\n",
      "INFO:collecteDeDonnees_05-04-21:Texte nettoyé.\n",
      "\n",
      "Document inséré dans l'inventaire.\n",
      "\n",
      "Document inséré dans l'inventaire.\n",
      "\n",
      "INFO:collecteDeDonnees_05-04-21:Document inséré dans l'inventaire.\n",
      "\n",
      "***********************************************************************\n",
      "\n",
      "***********************************************************************\n",
      "\n",
      "INFO:collecteDeDonnees_05-04-21:***********************************************************************\n",
      "\n",
      "05-04-2021:17h43 : Nombre limite de requete atteint. Reprise du programme : 05-04-2021:17h44\n",
      "05-04-2021:17h43 : Nombre limite de requete atteint. Reprise du programme : 05-04-2021:17h44\n",
      "INFO:collecteDeDonnees_05-04-21:05-04-2021:17h43 : Nombre limite de requete atteint. Reprise du programme : 05-04-2021:17h44\n"
     ]
    }
   ],
   "source": [
    "# spatial_extent = '' # name of the corrsponding territory\n",
    "# extend_voc_concept = '' # extended vocabulary concept file\n",
    "spatial_extent = 'montpellier'\n",
    "voc_concept = '/voc_concept/agriculture.txt'\n",
    "advanced_scraper(spatial_extent,voc_concept)"
   ]
  },
  {
   "cell_type": "markdown",
   "metadata": {},
   "source": [
    "# 4 - Retrieve corpora from mongodb, "
   ]
  },
  {
   "cell_type": "code",
   "execution_count": null,
   "metadata": {},
   "outputs": [],
   "source": [
    "# you can export your mongodb collection data for ES indexing step\n",
    "import pymongo\n",
    "\n",
    "myclient = pymongo.MongoClient(\"mongodb://localhost:27017/\")\n",
    "mydb = myclient[\"db_name\"]\n",
    "mycol = mydb[\"collectin_name\"]\n",
    "\n",
    "mydoc = mycol.find() # to retriev all data"
   ]
  }
 ],
 "metadata": {
  "kernelspec": {
   "display_name": "Python 3",
   "language": "python",
   "name": "python3"
  }
 },
 "nbformat": 4,
 "nbformat_minor": 4
}
