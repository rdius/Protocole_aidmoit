{
 "cells": [
  {
   "cell_type": "code",
   "execution_count": 1,
   "metadata": {},
   "outputs": [
    {
     "name": "stdout",
     "output_type": "stream",
     "text": [
      "The time recorded in the file is :  1624479476.3780015\n",
      "The time now  is :  1624480273.391837\n",
      "A total difference of 13.283563923835754 minutes\n",
      "It has been less than 15 minutes since the proxies were renewed, therefore sticking with the old proxies\n"
     ]
    }
   ],
   "source": [
    "#from Protocole_complet import search_wiki_\n",
    "#from ipynb.fs.full.Protocole_complet import search_wiki_\n",
    "from ipynb.fs.full.scrap_on_google import simple_scraper, advanced_scraper\n",
    "from ipynb.fs.full.similarity_measure import compute_best_terms, compute_best_doc\n",
    "from ipynb.fs.full.applyBiotex import biotex_terms_extractor"
   ]
  },
  {
   "cell_type": "markdown",
   "metadata": {},
   "source": [
    "# 1 - CHOIX DES TERMES EXPERTS"
   ]
  },
  {
   "cell_type": "markdown",
   "metadata": {},
   "source": [
    "### 1-1  Collecte de données sur wikipédia"
   ]
  },
  {
   "cell_type": "code",
   "execution_count": 2,
   "metadata": {},
   "outputs": [],
   "source": [
    "###########\n",
    "# scrap data from wiki, wikipedia corpus \n",
    "# define main thematic keywords, such as 'urbanisation', 'agriculture', 'hydrologie'\n",
    "###########\n",
    "keyword = 'agriculture'\n",
    "nbs = 15\n",
    "wiki_pages = {}\n",
    "#result_set = search_wiki_(keyword,nbs,wiki_pages)\n",
    "#result_set # doc "
   ]
  },
  {
   "cell_type": "code",
   "execution_count": 3,
   "metadata": {},
   "outputs": [],
   "source": [
    "#agriculture_wiki_corpus.txt"
   ]
  },
  {
   "cell_type": "markdown",
   "metadata": {},
   "source": [
    "### 1-2 Extraction des termes avec BioTex\n"
   ]
  },
  {
   "cell_type": "code",
   "execution_count": 4,
   "metadata": {},
   "outputs": [
    {
     "data": {
      "application/javascript": [
       "\n",
       "        if (window._pyforest_update_imports_cell) { window._pyforest_update_imports_cell('import os'); }\n",
       "    "
      ],
      "text/plain": [
       "<IPython.core.display.Javascript object>"
      ]
     },
     "metadata": {},
     "output_type": "display_data"
    }
   ],
   "source": [
    "###### \n",
    "# extract terms from wiki corpus (result_set) using BioTex\n",
    "# keyword_wiki_corpus.txt => specify that file as BioTex input in the properties conf file\n",
    "########\n",
    "\n",
    "w_corpus = os.getcwd() + '/' + str(keyword)+ '/' + str(keyword) + '_wiki_corpus.txt'\n",
    "#biotex_terms_extractor(w_corpus, 'french')"
   ]
  },
  {
   "cell_type": "markdown",
   "metadata": {},
   "source": [
    "### 1-3 Selection des termes experts par les experts de la thematique\n"
   ]
  },
  {
   "cell_type": "code",
   "execution_count": 5,
   "metadata": {},
   "outputs": [],
   "source": [
    "#########\n",
    "# manually select choose good terms for the thematic and save it into /expert_terms directory\n",
    "# You can use directely the experts terms we provided in ./expert_terms. \n",
    "# Make sure that you cleaned this folder when you need to specify your own data\n",
    "########"
   ]
  },
  {
   "cell_type": "code",
   "execution_count": null,
   "metadata": {},
   "outputs": [],
   "source": []
  },
  {
   "cell_type": "markdown",
   "metadata": {},
   "source": [
    "# 2 - Scrap Google data for thematic vocabulary concepts "
   ]
  },
  {
   "cell_type": "code",
   "execution_count": 6,
   "metadata": {},
   "outputs": [],
   "source": [
    "# directory to the keyword_file\n",
    "##########\n",
    "file = \"./expert_concept/agriculture.txt\"\n",
    "#g_corpus = simple_scraper('agriculture',file)"
   ]
  },
  {
   "cell_type": "markdown",
   "metadata": {},
   "source": [
    "### 2-1 Apply BioTex on Google thematic corpus "
   ]
  },
  {
   "cell_type": "code",
   "execution_count": 7,
   "metadata": {},
   "outputs": [
    {
     "data": {
      "application/javascript": [
       "\n",
       "        if (window._pyforest_update_imports_cell) { window._pyforest_update_imports_cell('import os'); }\n",
       "    "
      ],
      "text/plain": [
       "<IPython.core.display.Javascript object>"
      ]
     },
     "metadata": {},
     "output_type": "display_data"
    }
   ],
   "source": [
    "g_corpus = os.getcwd() + '/' + str(keyword)+ '/' + str(keyword) + '_google_corpus.txt'\n",
    "# biotex_out = biotex_terms_extractor(g_corpus, 'french')\n",
    "#biotex_terms_extractor(g_corpus, 'french')"
   ]
  },
  {
   "cell_type": "markdown",
   "metadata": {},
   "source": [
    "### 2-2 Apply Semantic measure on BioTex terms"
   ]
  },
  {
   "cell_type": "code",
   "execution_count": 8,
   "metadata": {},
   "outputs": [],
   "source": [
    "######## re-score BioTex terms according to their similarity with the experts terms ######\n",
    "##usage\n",
    "# biotex_out => chemin d'accès aux fichiers(mesure cvalue et tfidf) de sortie BioTex\n",
    "# expert_concept => indiquer aussi le chemin du fichier de termes experts de la thematic concernee\n",
    "# indiquer la taille ou nombre de termes à prendre en compte pour le calcul (valeur moyenne) de similarité -n_first-\n",
    "###########"
   ]
  },
  {
   "cell_type": "code",
   "execution_count": 10,
   "metadata": {},
   "outputs": [],
   "source": [
    "biotex_out = \"./biotex_out_\" #/home/rodrique/Bureau/Jupyter-notebook/Protocole_3M/Protocole_aidmoit\n",
    "expert_concept = './expert_concept/agriculture.txt' #/home/rodrique/Bureau/Jupyter-notebook/Protocole_3M/Protocole_aidmoit\n",
    "n_first = 10\n",
    "#data = compute_best_terms(biotex_out, expert_concept, n_first) # data is in dic format "
   ]
  },
  {
   "cell_type": "code",
   "execution_count": null,
   "metadata": {},
   "outputs": [],
   "source": [
    "# montpellier\n",
    "# urban\n",
    "# textile"
   ]
  },
  {
   "cell_type": "code",
   "execution_count": null,
   "metadata": {},
   "outputs": [],
   "source": [
    "# urbanisation\n",
    "# agriculture"
   ]
  },
  {
   "cell_type": "code",
   "execution_count": null,
   "metadata": {},
   "outputs": [],
   "source": [
    "# montpellier : {urbanisation:.5,agriculture:.8, a:.1, b:.3, c: .9, ...., n}\n",
    "# montpellier :  (.9 + .8) /2  \n",
    "\n",
    "# urban :\n",
    "# textile"
   ]
  },
  {
   "cell_type": "code",
   "execution_count": null,
   "metadata": {},
   "outputs": [],
   "source": [
    "# montpellier : .5\n",
    "# urban : .4\n",
    "# textile : .8"
   ]
  },
  {
   "cell_type": "code",
   "execution_count": null,
   "metadata": {},
   "outputs": [],
   "source": [
    "# montpellier : .5\n",
    "# textile : .8"
   ]
  },
  {
   "cell_type": "markdown",
   "metadata": {},
   "source": [
    "# 3 - Final step to build thematic corpora"
   ]
  },
  {
   "cell_type": "markdown",
   "metadata": {},
   "source": [
    "Build final thematic corpora by specifying an Spatial extent, and the thematic vocabulary concepts file"
   ]
  },
  {
   "cell_type": "code",
   "execution_count": 2,
   "metadata": {
    "collapsed": true
   },
   "outputs": [
    {
     "name": "stderr",
     "output_type": "stream",
     "text": [
      "Lecture de keywords.txt ... \n",
      "\n",
      "Début de la recherche de document concernant la ville de Montpellier\n",
      "Génération des requêtes\n",
      "Nouvelle requête : \"Montpellier\" AND exploitation?agricole\n",
      "\n",
      "URL : https://www.proprietes-rurales.com/vente-propriete-agricole/occitanie/herault,34\n",
      "\n",
      "Document sauvegardé.\n",
      "Document web converti en texte brut.\n",
      "Texte nettoyé.\n",
      "\n",
      "Document inséré dans l'inventaire.\n",
      "\n",
      "INFO:collecteDeDonnees_23-06-21:Document inséré dans l'inventaire.\n",
      "\n",
      "URL : https://fr.jobted.com/emploi-exploitation-agricole-%C3%A0-montpellier-(34)\n",
      "\n",
      "INFO:collecteDeDonnees_23-06-21:URL : https://fr.jobted.com/emploi-exploitation-agricole-%C3%A0-montpellier-(34)\n",
      "\n",
      "Document sauvegardé.\n",
      "INFO:collecteDeDonnees_23-06-21:Document sauvegardé.\n",
      "Document web converti en texte brut.\n",
      "INFO:collecteDeDonnees_23-06-21:Document web converti en texte brut.\n",
      "Texte nettoyé.\n",
      "\n",
      "INFO:collecteDeDonnees_23-06-21:Texte nettoyé.\n",
      "\n",
      "Document inséré dans l'inventaire.\n",
      "\n",
      "INFO:collecteDeDonnees_23-06-21:Document inséré dans l'inventaire.\n",
      "\n",
      "URL : https://www.terracoopa.net/agriculteurs-entrepreneurs/les-agriculteurs-bio/\n",
      "\n",
      "INFO:collecteDeDonnees_23-06-21:URL : https://www.terracoopa.net/agriculteurs-entrepreneurs/les-agriculteurs-bio/\n",
      "\n",
      "Document sauvegardé.\n",
      "INFO:collecteDeDonnees_23-06-21:Document sauvegardé.\n",
      "Document web converti en texte brut.\n",
      "INFO:collecteDeDonnees_23-06-21:Document web converti en texte brut.\n",
      "Texte nettoyé.\n",
      "\n",
      "INFO:collecteDeDonnees_23-06-21:Texte nettoyé.\n",
      "\n",
      "Document inséré dans l'inventaire.\n",
      "\n",
      "INFO:collecteDeDonnees_23-06-21:Document inséré dans l'inventaire.\n",
      "\n",
      "URL : https://www.pagesjaunes.fr/annuaire/montpellier-34/exploitation-agricole\n",
      "\n",
      "INFO:collecteDeDonnees_23-06-21:URL : https://www.pagesjaunes.fr/annuaire/montpellier-34/exploitation-agricole\n",
      "\n",
      "Le document existe déjà.\n",
      "\n",
      "INFO:collecteDeDonnees_23-06-21:Le document existe déjà.\n",
      "\n",
      "URL : https://www.maformation.fr/diplomes/bp/intitule_bp-responsable-exploitation-agricole_ville_montpellier-34000.html\n",
      "\n",
      "INFO:collecteDeDonnees_23-06-21:URL : https://www.maformation.fr/diplomes/bp/intitule_bp-responsable-exploitation-agricole_ville_montpellier-34000.html\n",
      "\n",
      "Document sauvegardé.\n",
      "INFO:collecteDeDonnees_23-06-21:Document sauvegardé.\n",
      "Document web converti en texte brut.\n",
      "INFO:collecteDeDonnees_23-06-21:Document web converti en texte brut.\n",
      "Texte nettoyé.\n",
      "\n",
      "INFO:collecteDeDonnees_23-06-21:Texte nettoyé.\n",
      "\n",
      "Document inséré dans l'inventaire.\n",
      "\n",
      "INFO:collecteDeDonnees_23-06-21:Document inséré dans l'inventaire.\n",
      "\n",
      "URL : https://www.herault.gouv.fr/content/download/9877/54982/file/8_DGEAF_PlaineMontpellieraineEtLunelloise.pdf\n",
      "\n",
      "INFO:collecteDeDonnees_23-06-21:URL : https://www.herault.gouv.fr/content/download/9877/54982/file/8_DGEAF_PlaineMontpellieraineEtLunelloise.pdf\n",
      "\n",
      "Document sauvegardé.\n",
      "INFO:collecteDeDonnees_23-06-21:Document sauvegardé.\n",
      "Document PDF converti en texte brut.\n",
      "INFO:collecteDeDonnees_23-06-21:Document PDF converti en texte brut.\n",
      "Texte nettoyé.\n",
      "\n",
      "INFO:collecteDeDonnees_23-06-21:Texte nettoyé.\n",
      "\n",
      "Document inséré dans l'inventaire.\n",
      "\n",
      "INFO:collecteDeDonnees_23-06-21:Document inséré dans l'inventaire.\n",
      "\n",
      "URL : https://www.vivastreet.com/agriculture-exploitation-agricole/montpellier\n",
      "\n",
      "INFO:collecteDeDonnees_23-06-21:URL : https://www.vivastreet.com/agriculture-exploitation-agricole/montpellier\n",
      "\n",
      "Document sauvegardé.\n",
      "INFO:collecteDeDonnees_23-06-21:Document sauvegardé.\n",
      "Document web converti en texte brut.\n",
      "INFO:collecteDeDonnees_23-06-21:Document web converti en texte brut.\n",
      "Texte nettoyé.\n",
      "\n",
      "INFO:collecteDeDonnees_23-06-21:Texte nettoyé.\n",
      "\n",
      "Document inséré dans l'inventaire.\n",
      "\n",
      "INFO:collecteDeDonnees_23-06-21:Document inséré dans l'inventaire.\n",
      "\n",
      "URL : https://www.cessionpme.com/annonces,fonds-de-commerce-entreprise-agriculture-viticulture-languedoc-roussillon-herault-exploitation-agricole-wz-montpellier,28,1,0,22,74,exploitation+agricole+wz+montpellier,offres.html\n",
      "\n",
      "INFO:collecteDeDonnees_23-06-21:URL : https://www.cessionpme.com/annonces,fonds-de-commerce-entreprise-agriculture-viticulture-languedoc-roussillon-herault-exploitation-agricole-wz-montpellier,28,1,0,22,74,exploitation+agricole+wz+montpellier,offres.html\n",
      "\n",
      "Document sauvegardé.\n",
      "INFO:collecteDeDonnees_23-06-21:Document sauvegardé.\n",
      "Document web converti en texte brut.\n",
      "INFO:collecteDeDonnees_23-06-21:Document web converti en texte brut.\n",
      "Texte nettoyé.\n",
      "\n",
      "INFO:collecteDeDonnees_23-06-21:Texte nettoyé.\n",
      "\n",
      "Document inséré dans l'inventaire.\n",
      "\n",
      "INFO:collecteDeDonnees_23-06-21:Document inséré dans l'inventaire.\n",
      "\n",
      "URL : https://www.pagespro.com/annuaire/ville/montpellier-34/entreprise-de-travaux-agricoles\n",
      "\n",
      "INFO:collecteDeDonnees_23-06-21:URL : https://www.pagespro.com/annuaire/ville/montpellier-34/entreprise-de-travaux-agricoles\n",
      "\n",
      "Document sauvegardé.\n",
      "INFO:collecteDeDonnees_23-06-21:Document sauvegardé.\n",
      "Document web converti en texte brut.\n",
      "INFO:collecteDeDonnees_23-06-21:Document web converti en texte brut.\n",
      "Texte nettoyé.\n",
      "\n",
      "INFO:collecteDeDonnees_23-06-21:Texte nettoyé.\n",
      "\n",
      "Document inséré dans l'inventaire.\n",
      "\n",
      "INFO:collecteDeDonnees_23-06-21:Document inséré dans l'inventaire.\n",
      "\n",
      "URL : https://herault.chambre-agriculture.fr/fileadmin/user_upload/National/FAL_commun/publications/Occitanie/Productions_techniques/Agriculture-en-bref_34_crao2017.pdf\n",
      "\n",
      "INFO:collecteDeDonnees_23-06-21:URL : https://herault.chambre-agriculture.fr/fileadmin/user_upload/National/FAL_commun/publications/Occitanie/Productions_techniques/Agriculture-en-bref_34_crao2017.pdf\n",
      "\n",
      "Document sauvegardé.\n",
      "INFO:collecteDeDonnees_23-06-21:Document sauvegardé.\n",
      "Document PDF converti en texte brut.\n",
      "INFO:collecteDeDonnees_23-06-21:Document PDF converti en texte brut.\n",
      "PdfReadWarning: Xref table not zero-indexed. ID numbers for objects will be corrected. [pdf.py:1736]\n",
      "Texte nettoyé.\n",
      "\n",
      "INFO:collecteDeDonnees_23-06-21:Texte nettoyé.\n",
      "\n",
      "Document inséré dans l'inventaire.\n",
      "\n",
      "INFO:collecteDeDonnees_23-06-21:Document inséré dans l'inventaire.\n",
      "\n",
      "***********************************************************************\n",
      "\n",
      "INFO:collecteDeDonnees_23-06-21:***********************************************************************\n",
      "\n",
      "23-06-2021:22h32 : Nombre limite de requete atteint. Reprise du programme : 23-06-2021:22h32\n",
      "INFO:collecteDeDonnees_23-06-21:23-06-2021:22h32 : Nombre limite de requete atteint. Reprise du programme : 23-06-2021:22h32\n",
      "Nouvelle requête : \"Montpellier\" AND agricole?production\n",
      "\n",
      "INFO:collecteDeDonnees_23-06-21:Nouvelle requête : \"Montpellier\" AND agricole?production\n",
      "\n",
      "URL : https://www.montpellier3m.fr/sites/default/files/mag/pdf/20180531/mmmag39-p26-33.pdf\n",
      "\n",
      "INFO:collecteDeDonnees_23-06-21:URL : https://www.montpellier3m.fr/sites/default/files/mag/pdf/20180531/mmmag39-p26-33.pdf\n",
      "\n",
      "Le document existe déjà.\n",
      "\n",
      "INFO:collecteDeDonnees_23-06-21:Le document existe déjà.\n",
      "\n",
      "URL : https://www.entreprendre-montpellier.com/fr/choisir-montpellier/misez-sur-lagroecologie\n",
      "\n",
      "INFO:collecteDeDonnees_23-06-21:URL : https://www.entreprendre-montpellier.com/fr/choisir-montpellier/misez-sur-lagroecologie\n",
      "\n",
      "Le document existe déjà.\n",
      "\n",
      "INFO:collecteDeDonnees_23-06-21:Le document existe déjà.\n",
      "\n",
      "URL : http://www.montpellier-supagro.fr/formations/catalogue-des-formations/recherche-d-une-formation/productions-agricoles-integrees-et\n",
      "\n",
      "INFO:collecteDeDonnees_23-06-21:URL : http://www.montpellier-supagro.fr/formations/catalogue-des-formations/recherche-d-une-formation/productions-agricoles-integrees-et\n",
      "\n",
      "Le document existe déjà.\n",
      "\n",
      "INFO:collecteDeDonnees_23-06-21:Le document existe déjà.\n",
      "\n",
      "URL : https://www.agrorientation.com/formations/licence-professionnelle-productions-agricoles-integrees-et-enjeux-environnementaux-integrated-and-organic-farming-1139.html\n",
      "\n",
      "INFO:collecteDeDonnees_23-06-21:URL : https://www.agrorientation.com/formations/licence-professionnelle-productions-agricoles-integrees-et-enjeux-environnementaux-integrated-and-organic-farming-1139.html\n",
      "\n",
      "Le document existe déjà.\n",
      "\n",
      "INFO:collecteDeDonnees_23-06-21:Le document existe déjà.\n",
      "\n",
      "URL : https://www.pagesjaunes.fr/annuaire/montpellier-34/exploitation-agricole\n",
      "\n",
      "INFO:collecteDeDonnees_23-06-21:URL : https://www.pagesjaunes.fr/annuaire/montpellier-34/exploitation-agricole\n",
      "\n",
      "Le document existe déjà.\n",
      "\n",
      "INFO:collecteDeDonnees_23-06-21:Le document existe déjà.\n",
      "\n",
      "URL : https://www.umontpellier.fr/articles/montpellier-pepiniere-de-lagriculture-de-demain\n",
      "\n",
      "INFO:collecteDeDonnees_23-06-21:URL : https://www.umontpellier.fr/articles/montpellier-pepiniere-de-lagriculture-de-demain\n",
      "\n"
     ]
    },
    {
     "name": "stderr",
     "output_type": "stream",
     "text": [
      "Le document existe déjà.\n",
      "\n",
      "INFO:collecteDeDonnees_23-06-21:Le document existe déjà.\n",
      "\n",
      "URL : http://www1.montpellier.inra.fr/PSDR/doc/Diagnostic-PSDR-LR.pdf\n",
      "\n",
      "INFO:collecteDeDonnees_23-06-21:URL : http://www1.montpellier.inra.fr/PSDR/doc/Diagnostic-PSDR-LR.pdf\n",
      "\n",
      "Le document existe déjà.\n",
      "\n",
      "INFO:collecteDeDonnees_23-06-21:Le document existe déjà.\n",
      "\n",
      "URL : https://www.umontpellier.fr/articles/tag/agriculture\n",
      "\n",
      "INFO:collecteDeDonnees_23-06-21:URL : https://www.umontpellier.fr/articles/tag/agriculture\n",
      "\n",
      "Le document existe déjà.\n",
      "\n",
      "INFO:collecteDeDonnees_23-06-21:Le document existe déjà.\n",
      "\n",
      "URL : http://www.occitanie.developpement-durable.gouv.fr/IMG/pdf/Observatoire_des_espaces_agricoles_et_forestiers-dep-herault-plaine_de_montpellier_et_lunel__cle776816.pdf\n",
      "\n",
      "INFO:collecteDeDonnees_23-06-21:URL : http://www.occitanie.developpement-durable.gouv.fr/IMG/pdf/Observatoire_des_espaces_agricoles_et_forestiers-dep-herault-plaine_de_montpellier_et_lunel__cle776816.pdf\n",
      "\n",
      "Document sauvegardé.\n",
      "INFO:collecteDeDonnees_23-06-21:Document sauvegardé.\n",
      "Document PDF converti en texte brut.\n",
      "INFO:collecteDeDonnees_23-06-21:Document PDF converti en texte brut.\n",
      "Texte nettoyé.\n",
      "\n",
      "INFO:collecteDeDonnees_23-06-21:Texte nettoyé.\n",
      "\n",
      "Document inséré dans l'inventaire.\n",
      "\n",
      "INFO:collecteDeDonnees_23-06-21:Document inséré dans l'inventaire.\n",
      "\n",
      "URL : https://herault.chambre-agriculture.fr/fileadmin/user_upload/National/FAL_commun/publications/Occitanie/Productions_techniques/Agriculture-en-bref_34_crao2017.pdf\n",
      "\n",
      "INFO:collecteDeDonnees_23-06-21:URL : https://herault.chambre-agriculture.fr/fileadmin/user_upload/National/FAL_commun/publications/Occitanie/Productions_techniques/Agriculture-en-bref_34_crao2017.pdf\n",
      "\n",
      "Le document existe déjà.\n",
      "\n",
      "INFO:collecteDeDonnees_23-06-21:Le document existe déjà.\n",
      "\n",
      "***********************************************************************\n",
      "\n",
      "INFO:collecteDeDonnees_23-06-21:***********************************************************************\n",
      "\n",
      "23-06-2021:22h32 : Nombre limite de requete atteint. Reprise du programme : 23-06-2021:22h33\n",
      "INFO:collecteDeDonnees_23-06-21:23-06-2021:22h32 : Nombre limite de requete atteint. Reprise du programme : 23-06-2021:22h33\n"
     ]
    },
    {
     "ename": "KeyboardInterrupt",
     "evalue": "",
     "output_type": "error",
     "traceback": [
      "\u001b[0;31m-------------------------------------------------------------------\u001b[0m",
      "\u001b[0;31mKeyboardInterrupt\u001b[0m                 Traceback (most recent call last)",
      "\u001b[0;32m<ipython-input-2-d1938978ea95>\u001b[0m in \u001b[0;36m<module>\u001b[0;34m\u001b[0m\n\u001b[1;32m      7\u001b[0m \u001b[0mmgdb\u001b[0m\u001b[0;34m,\u001b[0m\u001b[0mmgcol\u001b[0m \u001b[0;34m=\u001b[0m \u001b[0;34m'inventaire_medo'\u001b[0m\u001b[0;34m,\u001b[0m \u001b[0;34m'agriculture_git'\u001b[0m \u001b[0;31m# parameters to be set initially\u001b[0m\u001b[0;34m\u001b[0m\u001b[0;34m\u001b[0m\u001b[0m\n\u001b[1;32m      8\u001b[0m \u001b[0;31m#advanced_scraper(spatial_extent,voc_concept)\u001b[0m\u001b[0;34m\u001b[0m\u001b[0;34m\u001b[0m\u001b[0;34m\u001b[0m\u001b[0m\n\u001b[0;32m----> 9\u001b[0;31m \u001b[0madvanced_scraper\u001b[0m\u001b[0;34m(\u001b[0m\u001b[0mspatial_extent\u001b[0m\u001b[0;34m,\u001b[0m\u001b[0mvoc_concept\u001b[0m\u001b[0;34m,\u001b[0m\u001b[0mmgdb\u001b[0m\u001b[0;34m,\u001b[0m\u001b[0mmgcol\u001b[0m\u001b[0;34m)\u001b[0m\u001b[0;34m\u001b[0m\u001b[0;34m\u001b[0m\u001b[0m\n\u001b[0m",
      "\u001b[0;32m~/Bureau/Jupyter-notebook/Protocole_3M/Protocole_aidmoit/scrap_on_google.ipynb\u001b[0m in \u001b[0;36madvanced_scraper\u001b[0;34m(spatial_extent, voc_concept, mgdb, mgcol, site)\u001b[0m\n\u001b[1;32m    943\u001b[0m     \u001b[0;34m\"    \\\"\\\"\\\"\\n\"\u001b[0m\u001b[0;34m,\u001b[0m\u001b[0;34m\u001b[0m\u001b[0;34m\u001b[0m\u001b[0m\n\u001b[1;32m    944\u001b[0m     \u001b[0;34m\"\\t\\tEffecue la recherche.\\n\"\u001b[0m\u001b[0;34m,\u001b[0m\u001b[0;34m\u001b[0m\u001b[0;34m\u001b[0m\u001b[0m\n\u001b[0;32m--> 945\u001b[0;31m     \u001b[0;34m\"\\n\"\u001b[0m\u001b[0;34m,\u001b[0m\u001b[0;34m\u001b[0m\u001b[0;34m\u001b[0m\u001b[0m\n\u001b[0m\u001b[1;32m    946\u001b[0m     \u001b[0;34m\"\\t\\t@type  ville: String.\\n\"\u001b[0m\u001b[0;34m,\u001b[0m\u001b[0;34m\u001b[0m\u001b[0;34m\u001b[0m\u001b[0m\n\u001b[1;32m    947\u001b[0m     \u001b[0;34m\"\\t\\t@param ville: Nom de la ville.\\n\"\u001b[0m\u001b[0;34m,\u001b[0m\u001b[0;34m\u001b[0m\u001b[0;34m\u001b[0m\u001b[0m\n",
      "\u001b[0;32m~/Bureau/Jupyter-notebook/Protocole_3M/Protocole_aidmoit/scrap_on_google.ipynb\u001b[0m in \u001b[0;36mrecherche_web_advanced\u001b[0;34m(spatial_extent, voc_concept, mgdb, mgcol, motscles, logger, site)\u001b[0m\n\u001b[1;32m    867\u001b[0m     \u001b[0;34m\"\\t\\t@type  logger: Logger.\\n\"\u001b[0m\u001b[0;34m,\u001b[0m\u001b[0;34m\u001b[0m\u001b[0;34m\u001b[0m\u001b[0m\n\u001b[1;32m    868\u001b[0m     \u001b[0;34m\"\\t\\t@param logger: Fichier de log.\\n\"\u001b[0m\u001b[0;34m,\u001b[0m\u001b[0;34m\u001b[0m\u001b[0;34m\u001b[0m\u001b[0m\n\u001b[0;32m--> 869\u001b[0;31m     \u001b[0;34m\"\\t\\\"\\\"\\\"\\n\"\u001b[0m\u001b[0;34m,\u001b[0m\u001b[0;34m\u001b[0m\u001b[0;34m\u001b[0m\u001b[0m\n\u001b[0m\u001b[1;32m    870\u001b[0m     \u001b[0;34m\"    # Connexion à MongoDB\\n\"\u001b[0m\u001b[0;34m,\u001b[0m\u001b[0;34m\u001b[0m\u001b[0;34m\u001b[0m\u001b[0m\n\u001b[1;32m    871\u001b[0m     \u001b[0;34m\"    client = MongoClient()\\n\"\u001b[0m\u001b[0;34m,\u001b[0m\u001b[0;34m\u001b[0m\u001b[0;34m\u001b[0m\u001b[0m\n",
      "\u001b[0;32m~/Bureau/Jupyter-notebook/Protocole_3M/Protocole_aidmoit/scrap_on_google.ipynb\u001b[0m in \u001b[0;36mpause\u001b[0;34m(logger, minutes)\u001b[0m\n\u001b[1;32m    100\u001b[0m     \u001b[0;34m\"    def warning(self, message):\\n\"\u001b[0m\u001b[0;34m,\u001b[0m\u001b[0;34m\u001b[0m\u001b[0;34m\u001b[0m\u001b[0m\n\u001b[1;32m    101\u001b[0m     \u001b[0;34m\"        self.__logger__.warning(message)\\n\"\u001b[0m\u001b[0;34m,\u001b[0m\u001b[0;34m\u001b[0m\u001b[0;34m\u001b[0m\u001b[0m\n\u001b[0;32m--> 102\u001b[0;31m     \u001b[0;34m\"\\n\"\u001b[0m\u001b[0;34m,\u001b[0m\u001b[0;34m\u001b[0m\u001b[0;34m\u001b[0m\u001b[0m\n\u001b[0m\u001b[1;32m    103\u001b[0m     \u001b[0;34m\"    def error(self, message):\\n\"\u001b[0m\u001b[0;34m,\u001b[0m\u001b[0;34m\u001b[0m\u001b[0;34m\u001b[0m\u001b[0m\n\u001b[1;32m    104\u001b[0m     \u001b[0;34m\"        self.__logger__.error(message)\\n\"\u001b[0m\u001b[0;34m,\u001b[0m\u001b[0;34m\u001b[0m\u001b[0;34m\u001b[0m\u001b[0m\n",
      "\u001b[0;31mKeyboardInterrupt\u001b[0m: "
     ]
    }
   ],
   "source": [
    "# spatial_extent = '' # name of the corrsponding territory\n",
    "# extend_voc_concept = '' # extended vocabulary concept file\n",
    "# mgdb,mgcol = '','' db and collection name\n",
    "#########\n",
    "spatial_extent = 'montpellier'\n",
    "voc_concept = './voc_concept/agriculture.txt'\n",
    "mgdb,mgcol = 'inventaire_medo', 'agriculture_git' # parameters to be set initially\n",
    "#advanced_scraper(spatial_extent,voc_concept)\n",
    "advanced_scraper(spatial_extent,voc_concept,mgdb,mgcol)"
   ]
  },
  {
   "cell_type": "markdown",
   "metadata": {},
   "source": [
    "# 4 - Retrieve corpora from mongodb, "
   ]
  },
  {
   "cell_type": "code",
   "execution_count": null,
   "metadata": {},
   "outputs": [],
   "source": [
    "# you can export your mongodb collection data for ES indexing step\n",
    "import pymongo\n",
    "\n",
    "myclient = pymongo.MongoClient(\"mongodb://localhost:27017/\")\n",
    "mydb = myclient[\"db_name\"]\n",
    "mycol = mydb[\"collectin_name\"]\n",
    "\n",
    "mydoc = mycol.find() # to retriev all data"
   ]
  }
 ],
 "metadata": {
  "kernelspec": {
   "display_name": "Python 3",
   "language": "python",
   "name": "python3"
  },
  "language_info": {
   "codemirror_mode": {
    "name": "ipython",
    "version": 3
   },
   "file_extension": ".py",
   "mimetype": "text/x-python",
   "name": "python",
   "nbconvert_exporter": "python",
   "pygments_lexer": "ipython3",
   "version": "3.7.7"
  }
 },
 "nbformat": 4,
 "nbformat_minor": 4
}
