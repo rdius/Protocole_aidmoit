{
 "cells": [
  {
   "cell_type": "code",
   "execution_count": 3,
   "metadata": {},
   "outputs": [
    {
     "name": "stdout",
     "output_type": "stream",
     "text": [
      "The time recorded in the file is :  1628670204.0646508\n",
      "The time now  is :  1628671053.0665128\n",
      "A total difference of 14.150031034151713 minutes\n",
      "It has been less than 15 minutes since the proxies were renewed, therefore sticking with the old proxies\n"
     ]
    }
   ],
   "source": [
    "#!/usr/bin/env python3\n",
    "# -*- coding: utf-8 -*-\n",
    "import os, re, magic, json, sys\n",
    "import time, urllib\n",
    "from googlesearch import search\n",
    "from datetime import datetime, timedelta\n",
    "from pymongo import MongoClient\n",
    "from search_engine_scraper import google_search,bing_search,yahoo_search\n",
    "import requests\n",
    "from bs4 import BeautifulSoup\n",
    "import logging, logging.handlers\n",
    "import random\n",
    "import subprocess\n",
    "import signal, unicodedata\n",
    "import html2text\n",
    "from contextlib import contextmanager\n",
    "from bs4 import BeautifulSoup, UnicodeDammit\n",
    "import pprint\n",
    "import PyPDF2\n",
    "from time import mktime, strptime\n",
    "from datetime import datetime\n",
    "import json\n",
    "import spacy\n",
    "from ipynb.fs.full.similarity_measure import compute_best_doc\n",
    "from nltk.corpus import wordnet"
   ]
  },
  {
   "cell_type": "code",
   "execution_count": 6,
   "metadata": {},
   "outputs": [],
   "source": [
    "def less_html(html_doc):\n",
    "    \"\"\" Prend du code HTML en entrée et retourne un code épuré de certaines balises \"\"\"\n",
    "    soup = BeautifulSoup(html_doc, 'html.parser')\n",
    "    # Regex pour matcher les attributs contenant ces termes\n",
    "    bad_classes = re.compile(r'menu|head|publici|share|social|button|alert|prev|next|foot|tags|label|sidebar|author|topics|contact|modal|nav|snippet|register|aside|logo|bandeau|immobilier', re.IGNORECASE)\n",
    "    # Suppression des espaces ou des sauts de ligne au début et à la fin du titre\n",
    "    title = re.sub(r'^\\s|\\s$', '', soup.find('title').text)\n",
    "\n",
    "    # Dictionnaire des métadonnées\n",
    "    metadata = {}\n",
    "    metadata['title'] = title\n",
    "    # Recherche d'une éventuelle balise dont la classe contient \"date\"\n",
    "    # En principe la première date est la date de publication\n",
    "    bloc_date = soup.find(class_=re.compile(r'date', re.IGNORECASE))\n",
    "\n",
    "    if bloc_date:\n",
    "        # Recherche du premier motif JJ/MM/AAAA,\n",
    "        # en principe la date de publication\n",
    "        metadata['post_date'] = ''\n",
    "        date = extract_date(bloc_date.text)\n",
    "        if date: metadata['post_date'] = html_date_to_isoformat(date)\n",
    "\n",
    "    for balise in soup.find_all():\n",
    "        conditions = (\n",
    "            balise.name == 'head',\n",
    "            balise.name == 'nav',\n",
    "            balise.name == 'footer',\n",
    "            balise.name == 'aside',\n",
    "            balise.name == 'script',\n",
    "            balise.name == 'style',\n",
    "            balise.name == 'a',\n",
    "            balise.name == 'figure',\n",
    "            balise.name == 'img',\n",
    "            balise.name == 'svg',\n",
    "            balise.name == 'noscript',\n",
    "            balise.name == 'form',\n",
    "            balise.name == 'button'\n",
    "        )\n",
    "\n",
    "        if any(conditions):\n",
    "            balise.extract()\n",
    "        # On ajoute un espace devant chaque span, pour éviter\n",
    "        # parfois d'avoir des mots collés\n",
    "        elif balise.name == 'span' and balise.string:\n",
    "            balise.string = ' ' + balise.string\n",
    "\n",
    "    for balise in soup.find_all(attrs={'class': bad_classes}):\n",
    "        balise.decompose()\n",
    "\n",
    "    for balise in soup.find_all(attrs={'id': bad_classes}):\n",
    "        balise.decompose()\n",
    "\n",
    "    for balise in soup.find_all():\n",
    "        if balise.text == '': balise.extract()\n",
    "\n",
    "    return metadata, str(soup)"
   ]
  },
  {
   "cell_type": "code",
   "execution_count": 9,
   "metadata": {},
   "outputs": [],
   "source": [
    "def convert_html_to_txt(src_file_path):\n",
    "    \"\"\"\n",
    "        Conversion à l'aide de html2text.\n",
    "        Détection automatique de l'encodage (UnicodeDammit).\n",
    "        On capture la sortie texte.\n",
    "\n",
    "        @type  src_file_path: String.\n",
    "        @param src_file_path: Chemin du fichier source.\n",
    "\n",
    "        @rtype: String.\n",
    "        @return: Texte brut.\n",
    "    \"\"\"\n",
    "    html_file = open(src_file_path, 'rb').read()\n",
    "    dammit = UnicodeDammit(html_file) # src_file_path\n",
    "#     metadata, html_mini = less_html(html_file.decode(dammit.original_encoding))\n",
    "    metadata, html_mini = less_html(html_file.decode(dammit.original_encoding))\n",
    "\n",
    "\n",
    "    handler = html2text.HTML2Text()\n",
    "    handler.ignore_links = True\n",
    "    handler.ignore_emphasis = True\n",
    "    text = handler.handle(html_mini)\n",
    "\n",
    "    return metadata#, text"
   ]
  },
  {
   "cell_type": "code",
   "execution_count": 10,
   "metadata": {},
   "outputs": [
    {
     "data": {
      "text/plain": [
       "{'title': \"Chambre d'agriculture de l'Hérault - Accueil | Facebook\"}"
      ]
     },
     "execution_count": 10,
     "metadata": {},
     "output_type": "execute_result"
    }
   ],
   "source": [
    "\n",
    "file = '/home/rodrique/Bureau/Jupyter-notebook/Protocole_3M/documents/Montpellier_/Documents_SRC/[fr-fr.facebook.com]ChambagriHerault'\n",
    "convert_html_to_txt(file)"
   ]
  },
  {
   "cell_type": "code",
   "execution_count": 13,
   "metadata": {},
   "outputs": [
    {
     "data": {
      "text/plain": [
       "'2020-01-01'"
      ]
     },
     "execution_count": 13,
     "metadata": {},
     "output_type": "execute_result"
    }
   ],
   "source": [
    "from htmldate import find_date\n",
    "find_date('https://umr-tetis.fr/index.php/fr/presentation/tetis/qui-sommes-nous')"
   ]
  },
  {
   "cell_type": "code",
   "execution_count": 1,
   "metadata": {},
   "outputs": [
    {
     "name": "stdout",
     "output_type": "stream",
     "text": [
      "/home/rodrique/anaconda3\n"
     ]
    }
   ],
   "source": [
    "import sys\n",
    "print(sys.prefix)"
   ]
  },
  {
   "cell_type": "code",
   "execution_count": null,
   "metadata": {},
   "outputs": [],
   "source": []
  }
 ],
 "metadata": {
  "kernelspec": {
   "display_name": "Python 3",
   "language": "python",
   "name": "python3"
  },
  "language_info": {
   "codemirror_mode": {
    "name": "ipython",
    "version": 3
   },
   "file_extension": ".py",
   "mimetype": "text/x-python",
   "name": "python",
   "nbconvert_exporter": "python",
   "pygments_lexer": "ipython3",
   "version": "3.7.7"
  }
 },
 "nbformat": 4,
 "nbformat_minor": 4
}
